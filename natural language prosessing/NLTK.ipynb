{
 "cells": [
  {
   "cell_type": "code",
   "execution_count": 17,
   "id": "d84baaed",
   "metadata": {},
   "outputs": [],
   "source": [
    "import nltk\n",
    "\n",
    "#nltk.download()"
   ]
  },
  {
   "cell_type": "markdown",
   "id": "6a9283df",
   "metadata": {},
   "source": [
    "### 分词"
   ]
  },
  {
   "cell_type": "code",
   "execution_count": 1,
   "id": "5648ef60",
   "metadata": {},
   "outputs": [],
   "source": [
    "from nltk.tokenize import word_tokenize\n",
    "from nltk.text import Text"
   ]
  },
  {
   "cell_type": "code",
   "execution_count": 2,
   "id": "80cf1f1b",
   "metadata": {},
   "outputs": [],
   "source": [
    "input_str = \"Today's weather is good, we have no class in the afternoon. We will play basketball tomorrow.\""
   ]
  },
  {
   "cell_type": "code",
   "execution_count": 3,
   "id": "9b0c7cad",
   "metadata": {},
   "outputs": [],
   "source": [
    "word_tokens = word_tokenize(input_str)\n",
    "tokens = [word.lower() for word in word_tokens]"
   ]
  },
  {
   "cell_type": "code",
   "execution_count": 4,
   "id": "e291fb54",
   "metadata": {},
   "outputs": [
    {
     "data": {
      "text/plain": [
       "['today', \"'s\", 'weather', 'is', 'good']"
      ]
     },
     "execution_count": 4,
     "metadata": {},
     "output_type": "execute_result"
    }
   ],
   "source": [
    "tokens[:5]"
   ]
  },
  {
   "cell_type": "markdown",
   "id": "96989bab",
   "metadata": {},
   "source": [
    "### Text对象\n",
    "\n",
    "创建Text对象，方便后续操作"
   ]
  },
  {
   "cell_type": "code",
   "execution_count": 5,
   "id": "65d319cd",
   "metadata": {},
   "outputs": [],
   "source": [
    "t = Text(tokens)"
   ]
  },
  {
   "cell_type": "code",
   "execution_count": 6,
   "id": "766ec8bf",
   "metadata": {},
   "outputs": [
    {
     "data": {
      "text/plain": [
       "2"
      ]
     },
     "execution_count": 6,
     "metadata": {},
     "output_type": "execute_result"
    }
   ],
   "source": [
    "t.count('we') # 计数"
   ]
  },
  {
   "cell_type": "code",
   "execution_count": 7,
   "id": "a6fae0cf",
   "metadata": {},
   "outputs": [
    {
     "data": {
      "text/plain": [
       "8"
      ]
     },
     "execution_count": 7,
     "metadata": {},
     "output_type": "execute_result"
    }
   ],
   "source": [
    "t.index('no') # 定位"
   ]
  },
  {
   "cell_type": "code",
   "execution_count": 8,
   "id": "d1a6b028",
   "metadata": {},
   "outputs": [
    {
     "data": {
      "image/png": "[encoded data removed]",
      "text/plain": [
       "<Figure size 432x288 with 1 Axes>"
      ]
     },
     "metadata": {
      "needs_background": "light"
     },
     "output_type": "display_data"
    }
   ],
   "source": [
    "t.plot(8) # 前x多的词，词频"
   ]
  },
  {
   "cell_type": "markdown",
   "id": "39a689d7",
   "metadata": {},
   "source": [
    "### 停用词\n",
    "\n",
    "文档的说明：`stopwords.readme()`  \n",
    "stopwords:停用词表"
   ]
  },
  {
   "cell_type": "code",
   "execution_count": 9,
   "id": "c5edc46f",
   "metadata": {},
   "outputs": [
    {
     "data": {
      "text/plain": [
       "\"i me my myself we our ours ourselves you you're you've you'll you'd your yours yourself yourselves he him his himself she she's her hers herself it it's its itself they them their theirs themselves what which who whom this that that'll these those am is are was were be been being have has had having do does did doing a an the and but if or because as until while of at by for with about against between into through during before after above below to from up down in out on off over under again further then once here there when where why how all any both each few more most other some such no nor not only own same so than too very s t can will just don don't should should've now d ll m o re ve y ain aren aren't couldn couldn't didn didn't doesn doesn't hadn hadn't hasn hasn't haven haven't isn isn't ma mightn mightn't mustn mustn't needn needn't shan shan't shouldn shouldn't wasn wasn't weren weren't won won't wouldn wouldn't \""
      ]
     },
     "execution_count": 9,
     "metadata": {},
     "output_type": "execute_result"
    }
   ],
   "source": [
    "from nltk.corpus import stopwords\n",
    "\n",
    "# 看一下英语的停用词\n",
    "stopwords.raw('english').replace('\\n', ' ')"
   ]
  },
  {
   "cell_type": "code",
   "execution_count": 10,
   "id": "2679393d",
   "metadata": {},
   "outputs": [
    {
     "data": {
      "text/plain": [
       "{'have', 'in', 'is', 'no', 'the', 'we', 'will'}"
      ]
     },
     "execution_count": 10,
     "metadata": {},
     "output_type": "execute_result"
    }
   ],
   "source": [
    "tokens_set = set(tokens)\n",
    "\n",
    "# 交集\n",
    "tokens_set.intersection(set(stopwords.words('english')))"
   ]
  },
  {
   "cell_type": "code",
   "execution_count": 11,
   "id": "73df8023",
   "metadata": {},
   "outputs": [
    {
     "data": {
      "text/plain": [
       "['class',\n",
       " 'tomorrow',\n",
       " 'good',\n",
       " 'play',\n",
       " 'basketball',\n",
       " \"'s\",\n",
       " 'today',\n",
       " 'weather',\n",
       " ',',\n",
       " 'afternoon',\n",
       " '.']"
      ]
     },
     "execution_count": 11,
     "metadata": {},
     "output_type": "execute_result"
    }
   ],
   "source": [
    "# 过滤掉停用词\n",
    "filtered_tokens_set = [w for w in tokens_set if w not in stopwords.words('english')]\n",
    "\n",
    "filtered_tokens_set"
   ]
  },
  {
   "cell_type": "markdown",
   "id": "66f8527c",
   "metadata": {},
   "source": [
    "### 词性标注\n"
   ]
  },
  {
   "cell_type": "code",
   "execution_count": 12,
   "id": "6a4e2798",
   "metadata": {},
   "outputs": [
    {
     "data": {
      "text/plain": [
       "[('today', 'NN'),\n",
       " (\"'s\", 'POS'),\n",
       " ('weather', 'NN'),\n",
       " ('is', 'VBZ'),\n",
       " ('good', 'JJ'),\n",
       " (',', ','),\n",
       " ('we', 'PRP'),\n",
       " ('have', 'VBP'),\n",
       " ('no', 'DT'),\n",
       " ('class', 'NN'),\n",
       " ('in', 'IN'),\n",
       " ('the', 'DT'),\n",
       " ('afternoon', 'NN'),\n",
       " ('.', '.'),\n",
       " ('we', 'PRP'),\n",
       " ('will', 'MD'),\n",
       " ('play', 'VB'),\n",
       " ('basketball', 'NN'),\n",
       " ('tomorrow', 'NN'),\n",
       " ('.', '.')]"
      ]
     },
     "execution_count": 12,
     "metadata": {},
     "output_type": "execute_result"
    }
   ],
   "source": [
    "from nltk import pos_tag\n",
    "\n",
    "tags = pos_tag(tokens)\n",
    "\n",
    "tags"
   ]
  },
  {
   "cell_type": "markdown",
   "id": "d48dd8c9",
   "metadata": {},
   "source": [
    "### 分块"
   ]
  },
  {
   "cell_type": "code",
   "execution_count": 13,
   "id": "eebe1bca",
   "metadata": {},
   "outputs": [],
   "source": [
    "from nltk.chunk import RegexpParser"
   ]
  },
  {
   "cell_type": "code",
   "execution_count": 14,
   "id": "e81371c6",
   "metadata": {},
   "outputs": [
    {
     "name": "stdout",
     "output_type": "stream",
     "text": [
      "(S (MY_NP the/DT little/JJ yellow/JJ dog/NN) died/VBD)\n"
     ]
    }
   ],
   "source": [
    "sentence = [('the', 'DT'), ('little', 'JJ'), ('yellow', 'JJ'), ('dog', 'NN'), ('died', 'VBD')] # 分完词的句子\n",
    "grammer = \"MY_NP: {<DT>?<JJ>*<NN>}\" # 自定义规则\n",
    "cp = RegexpParser(grammer) # 生成语法规则\n",
    "\n",
    "result = cp.parse(sentence) # 进行分块\n",
    "print(result)\n",
    "\n",
    "#result.draw() # 调用matplotlib画出图"
   ]
  },
  {
   "cell_type": "markdown",
   "id": "a078a023",
   "metadata": {},
   "source": [
    "### 命名实体识别"
   ]
  },
  {
   "cell_type": "code",
   "execution_count": 18,
   "id": "d064c496",
   "metadata": {},
   "outputs": [
    {
     "name": "stderr",
     "output_type": "stream",
     "text": [
      "[nltk_data] Downloading package maxent_ne_chunker to\n",
      "[nltk_data]     C:\\Users\\明月空悬\\AppData\\Roaming\\nltk_data...\n",
      "[nltk_data]   Package maxent_ne_chunker is already up-to-date!\n",
      "[nltk_data] Downloading package words to\n",
      "[nltk_data]     C:\\Users\\明月空悬\\AppData\\Roaming\\nltk_data...\n",
      "[nltk_data]   Package words is already up-to-date!\n"
     ]
    },
    {
     "data": {
      "text/plain": [
       "True"
      ]
     },
     "execution_count": 18,
     "metadata": {},
     "output_type": "execute_result"
    }
   ],
   "source": [
    "nltk.download('maxent_ne_chunker')\n",
    "nltk.download('words')"
   ]
  },
  {
   "cell_type": "code",
   "execution_count": 19,
   "id": "112da021",
   "metadata": {},
   "outputs": [
    {
     "name": "stdout",
     "output_type": "stream",
     "text": [
      "(S\n",
      "  (PERSON Edison/NNP)\n",
      "  went/VBD\n",
      "  to/TO\n",
      "  (ORGANIZATION Tsinghua/NNP University/NNP)\n",
      "  today/NN\n",
      "  ./.)\n"
     ]
    }
   ],
   "source": [
    "from nltk import ne_chunk\n",
    "\n",
    "sentence = 'Edison went to Tsinghua University today.'\n",
    "\n",
    "print(ne_chunk(pos_tag(word_tokenize(sentence))))"
   ]
  },
  {
   "cell_type": "markdown",
   "id": "4e96aede",
   "metadata": {},
   "source": [
    "### 数据清洗"
   ]
  },
  {
   "cell_type": "code",
   "execution_count": 21,
   "id": "3ecbcf20",
   "metadata": {},
   "outputs": [],
   "source": [
    "import re\n",
    "from nltk.corpus import stopwords\n",
    "\n",
    "# 输入数据\n",
    "# 混杂了很多成分：网址，特殊字符，空格等\n",
    "s = '    RT @Amila #Test\\nTom\\'s newly listed Co  &amp; Mary\\'s unlisted      Group to supply tech for nlTK. \\nh $TSLA $AAPL https:// t.co/x34afsfQsh'\n",
    "\n",
    "# 指定停用词\n",
    "cache_english_stopwords = stopwords.words('english')"
   ]
  },
  {
   "cell_type": "code",
   "execution_count": 22,
   "id": "555eeef7",
   "metadata": {},
   "outputs": [
    {
     "name": "stdout",
     "output_type": "stream",
     "text": [
      "原始数据：     RT @Amila #Test\n",
      "Tom's newly listed Co  &amp; Mary's unlisted      Group to supply tech for nlTK. \n",
      "h $TSLA $AAPL https:// t.co/x34afsfQsh \n",
      "\n",
      "去掉特殊标签后的：     RT  \n",
      "Tom's newly listed Co   Mary's unlisted      Group to supply tech for nlTK. \n",
      "h $TSLA $AAPL https:// t.co/x34afsfQsh \n",
      "\n",
      "去掉价值符号后的：     RT  \n",
      "Tom's newly listed Co   Mary's unlisted      Group to supply tech for nlTK. \n",
      "h   https:// t.co/x34afsfQsh \n",
      "\n",
      "去掉超链接后的：     RT  \n",
      "Tom's newly listed Co   Mary's unlisted      Group to supply tech for nlTK. \n",
      "h    \n",
      "\n",
      "去掉专门名词缩写后的：       \n",
      "Tom' newly listed    Mary' unlisted      Group  supply tech for nlTK. \n",
      "    \n",
      "\n",
      "去掉多余空格后的： Tom' newly listed Mary' unlisted Group supply tech for nlTK.  \n",
      "\n",
      "分词结果： ['Tom', \"'\", 'newly', 'listed', 'Mary', \"'\", 'unlisted', 'Group', 'supply', 'tech', 'for', 'nlTK', '.'] \n",
      "\n",
      "去掉停用词后的： ['Tom', \"'\", 'newly', 'listed', 'Mary', \"'\", 'unlisted', 'Group', 'supply', 'tech', 'nlTK', '.'] \n",
      "\n",
      "过滤后的： Tom ' newly listed Mary ' unlisted Group supply tech nlTK . \n",
      "\n"
     ]
    }
   ],
   "source": [
    "# 数据清洗的功能\n",
    "def text_clean(text):\n",
    "    print('原始数据：', text, '\\n')\n",
    "    \n",
    "    # 去掉HTML标签(eg. &amp;)\n",
    "    text_no_special_entities = re.sub(r'\\&\\w*;|#\\w*|@\\w*', '', text)\n",
    "    print('去掉特殊标签后的：', text_no_special_entities, '\\n')\n",
    "    \n",
    "    # 去掉一些价值符号\n",
    "    text_no_tickers = re.sub(r'\\$\\w*', '', text_no_special_entities)\n",
    "    print('去掉价值符号后的：', text_no_tickers, '\\n')\n",
    "    \n",
    "    # 去掉超链接\n",
    "    text_no_hyperlinks = re.sub(r'https?:\\/\\/.*\\/\\w*', '', text_no_tickers)\n",
    "    print('去掉超链接后的：', text_no_hyperlinks, '\\n')\n",
    "    \n",
    "    # 去掉专门名词的缩写\n",
    "    text_no_small_words = re.sub(r'\\b\\w{1,2}\\b', '', text_no_hyperlinks) # 偷懒简单实现，一个或两个字母组成的单词\n",
    "    print('去掉专门名词缩写后的：', text_no_small_words, '\\n')\n",
    "    \n",
    "    # 去掉多余的空格\n",
    "    text_no_whitespace = re.sub(r'\\s\\s+', ' ', text_no_small_words) # 大空格全都替换为1个space\n",
    "    text_no_whitespace = text_no_whitespace.lstrip() # 去掉开头的所有空格\n",
    "    print('去掉多余空格后的：', text_no_whitespace, '\\n')\n",
    "    \n",
    "    # 分词\n",
    "    tokens = word_tokenize(text_no_whitespace)\n",
    "    print('分词结果：', tokens, '\\n')\n",
    "    \n",
    "    # 去掉停用词\n",
    "    list_no_stopwords = [i for i in tokens if i not in cache_english_stopwords]\n",
    "    print('去掉停用词后的：', list_no_stopwords, '\\n')\n",
    "    \n",
    "    # 过滤\n",
    "    text_filtered = ' '.join(list_no_stopwords)\n",
    "    print('过滤后的：', text_filtered, '\\n')\n",
    "    \n",
    "text_clean(s)"
   ]
  },
  {
   "cell_type": "code",
   "execution_count": null,
   "id": "b1e10ec9",
   "metadata": {},
   "outputs": [],
   "source": []
  }
 ],
 "metadata": {
  "kernelspec": {
   "display_name": "Python 3",
   "language": "python",
   "name": "python3"
  },
  "language_info": {
   "codemirror_mode": {
    "name": "ipython",
    "version": 3
   },
   "file_extension": ".py",
   "mimetype": "text/x-python",
   "name": "python",
   "nbconvert_exporter": "python",
   "pygments_lexer": "ipython3",
   "version": "3.7.10"
  }
 },
 "nbformat": 4,
 "nbformat_minor": 5
}
