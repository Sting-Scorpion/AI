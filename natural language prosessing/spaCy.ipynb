{
 "cells": [
  {
   "cell_type": "markdown",
   "id": "d6bc21d2",
   "metadata": {},
   "source": [
    "# [spaCy](https://spacy.io/#example)介绍"
   ]
  },
  {
   "cell_type": "code",
   "execution_count": 2,
   "id": "cd46b4b4",
   "metadata": {},
   "outputs": [],
   "source": [
    "# 导入工具包与英文模型\n",
    "# 管理员身份打开CMD\n",
    "# python -m spacy download en\n",
    "\n",
    "import spacy\n",
    "\n",
    "nlp = spacy.load('en_core_web_sm')"
   ]
  },
  {
   "cell_type": "markdown",
   "id": "d4bb49e8",
   "metadata": {},
   "source": [
    "## 文本处理"
   ]
  },
  {
   "cell_type": "code",
   "execution_count": 3,
   "id": "38df22f6",
   "metadata": {},
   "outputs": [],
   "source": [
    "doc = nlp('Weather is good, very windy and sunny. We have no class in the afternoon.')"
   ]
  },
  {
   "cell_type": "code",
   "execution_count": 4,
   "id": "eb524746",
   "metadata": {},
   "outputs": [
    {
     "name": "stdout",
     "output_type": "stream",
     "text": [
      "Weather\n",
      "is\n",
      "good\n",
      ",\n",
      "very\n",
      "windy\n",
      "and\n",
      "sunny\n",
      ".\n",
      "We\n",
      "have\n",
      "no\n",
      "class\n",
      "in\n",
      "the\n",
      "afternoon\n",
      ".\n"
     ]
    }
   ],
   "source": [
    "# 分词\n",
    "\n",
    "for token in doc:\n",
    "    print(token)"
   ]
  },
  {
   "cell_type": "code",
   "execution_count": 5,
   "id": "9e43726c",
   "metadata": {},
   "outputs": [
    {
     "name": "stdout",
     "output_type": "stream",
     "text": [
      "Weather is good, very windy and sunny.\n",
      "We have no class in the afternoon.\n"
     ]
    }
   ],
   "source": [
    "# 分句\n",
    "\n",
    "for sent in doc.sents:\n",
    "    print(sent)"
   ]
  },
  {
   "cell_type": "markdown",
   "id": "88cc6f3a",
   "metadata": {},
   "source": [
    "## 词性\n",
    "\n",
    "[参考](https://www.winwaed.com/blog/2011/11/08/part-of-speech-tags/)"
   ]
  },
  {
   "cell_type": "code",
   "execution_count": 7,
   "id": "8a9dabc9",
   "metadata": {},
   "outputs": [
    {
     "name": "stdout",
     "output_type": "stream",
     "text": [
      "Weather - NOUN\n",
      "is - AUX\n",
      "good - ADJ\n",
      ", - PUNCT\n",
      "very - ADV\n",
      "windy - ADJ\n",
      "and - CCONJ\n",
      "sunny - ADJ\n",
      ". - PUNCT\n",
      "We - PRON\n",
      "have - VERB\n",
      "no - DET\n",
      "class - NOUN\n",
      "in - ADP\n",
      "the - DET\n",
      "afternoon - NOUN\n",
      ". - PUNCT\n"
     ]
    }
   ],
   "source": [
    "for token in doc:\n",
    "    print('{} - {}'.format(token, token.pos_))"
   ]
  },
  {
   "cell_type": "markdown",
   "id": "caf18791",
   "metadata": {},
   "source": [
    "## 命名实体识别"
   ]
  },
  {
   "cell_type": "code",
   "execution_count": 8,
   "id": "67d9ddbf",
   "metadata": {},
   "outputs": [
    {
     "name": "stdout",
     "output_type": "stream",
     "text": [
      "Paris - GPE\n",
      "Jack - PERSON\n",
      "Uni - GPE\n"
     ]
    }
   ],
   "source": [
    "doc2 = nlp('I went to Paris to meet my old friend Jack from Uni.')\n",
    "\n",
    "for ent in doc2.ents:\n",
    "    print('{} - {}'.format(ent, ent.label_))"
   ]
  },
  {
   "cell_type": "code",
   "execution_count": 10,
   "id": "8f006cc4",
   "metadata": {},
   "outputs": [
    {
     "data": {
      "text/html": [
       "<span class=\"tex2jax_ignore\"><div class=\"entities\" style=\"line-height: 2.5; direction: ltr\">I went to \n",
       "<mark class=\"entity\" style=\"background: #feca74; padding: 0.45em 0.6em; margin: 0 0.25em; line-height: 1; border-radius: 0.35em;\">\n",
       "    Paris\n",
       "    <span style=\"font-size: 0.8em; font-weight: bold; line-height: 1; border-radius: 0.35em; vertical-align: middle; margin-left: 0.5rem\">GPE</span>\n",
       "</mark>\n",
       " to meet my old friend \n",
       "<mark class=\"entity\" style=\"background: #aa9cfc; padding: 0.45em 0.6em; margin: 0 0.25em; line-height: 1; border-radius: 0.35em;\">\n",
       "    Jack\n",
       "    <span style=\"font-size: 0.8em; font-weight: bold; line-height: 1; border-radius: 0.35em; vertical-align: middle; margin-left: 0.5rem\">PERSON</span>\n",
       "</mark>\n",
       " from \n",
       "<mark class=\"entity\" style=\"background: #feca74; padding: 0.45em 0.6em; margin: 0 0.25em; line-height: 1; border-radius: 0.35em;\">\n",
       "    Uni\n",
       "    <span style=\"font-size: 0.8em; font-weight: bold; line-height: 1; border-radius: 0.35em; vertical-align: middle; margin-left: 0.5rem\">GPE</span>\n",
       "</mark>\n",
       ".</div></span>"
      ],
      "text/plain": [
       "<IPython.core.display.HTML object>"
      ]
     },
     "metadata": {},
     "output_type": "display_data"
    }
   ],
   "source": [
    "from spacy import displacy\n",
    "\n",
    "displacy.render(doc2, style='ent', jupyter=True)"
   ]
  },
  {
   "cell_type": "markdown",
   "id": "37834b82",
   "metadata": {},
   "source": [
    "### 找到书中所有人名字"
   ]
  },
  {
   "cell_type": "code",
   "execution_count": 11,
   "id": "9aaebc2b",
   "metadata": {},
   "outputs": [],
   "source": [
    "def read_file(file_name):\n",
    "    with open(file_name, 'r') as file:\n",
    "        return file.read()"
   ]
  },
  {
   "cell_type": "code",
   "execution_count": 12,
   "id": "17c040e4",
   "metadata": {},
   "outputs": [],
   "source": [
    "text = read_file('./text/jane-austen-pride-prejudice.txt')\n",
    "\n",
    "processed_text = nlp(text)"
   ]
  },
  {
   "cell_type": "code",
   "execution_count": 13,
   "id": "fa186d6a",
   "metadata": {},
   "outputs": [
    {
     "data": {
      "text/plain": [
       "5732"
      ]
     },
     "execution_count": 13,
     "metadata": {},
     "output_type": "execute_result"
    }
   ],
   "source": [
    "sentences = [sent for sent in processed_text.sents]\n",
    "\n",
    "len(sentences)"
   ]
  },
  {
   "cell_type": "code",
   "execution_count": 14,
   "id": "c743ec9a",
   "metadata": {},
   "outputs": [
    {
     "data": {
      "text/plain": [
       "[锘縏he Project Gutenberg eBook, Pride and Prejudice, by Jane Austen, Edited\n",
       " by R. W. (Robert William) Chapman\n",
       " \n",
       " \n",
       " This eBook is for the use of anyone anywhere at no cost and with\n",
       " almost no restrictions whatsoever.  ,\n",
       " You may copy it, give it away or\n",
       " re-use it under the terms of the Project Gutenberg License included\n",
       " with this eBook or online at www.gutenberg.org\n",
       " \n",
       " \n",
       " \n",
       " \n",
       " \n",
       " Title: Pride and Prejudice\n",
       " \n",
       " \n",
       " Author: Jane Austen\n",
       " \n",
       " Editor: R. W. (Robert William) Chapman\n",
       " \n",
       " Release Date: May 9, 2013  ,\n",
       " [eBook #42671]\n",
       " \n",
       " Language: English\n",
       " \n",
       " \n",
       " ***START OF THE PROJECT GUTENBERG EBOOK PRIDE AND PREJUDICE***\n",
       " \n",
       " \n",
       " E-text prepared by Greg Weeks, Jon Hurst, Mary Meehan, and the Online\n",
       " Distributed Proofreading Team (http://www.pgdp.net) from page images\n",
       " generously made available by Internet Archive (https://archive.org)\n",
       " \n",
       " \n",
       " ,\n",
       " Note: Project Gutenberg also has an HTML version of this\n",
       "       file which includes the original illustrations.\n",
       "       ,\n",
       " See 42671-h.htm or 42671-h.zip:\n",
       "       ]"
      ]
     },
     "execution_count": 14,
     "metadata": {},
     "output_type": "execute_result"
    }
   ],
   "source": [
    "sentences[0: 5]"
   ]
  },
  {
   "cell_type": "code",
   "execution_count": 15,
   "id": "13642163",
   "metadata": {},
   "outputs": [
    {
     "name": "stdout",
     "output_type": "stream",
     "text": [
      "[('Elizabeth', 614), ('Darcy', 406), ('Jane', 280), ('Bennet', 241), ('Collins', 176), ('Bingley', 163), ('Wickham', 107), ('Gardiner', 94), ('Lizzy', 93), ('Lady Catherine', 75)]\n"
     ]
    }
   ],
   "source": [
    "from collections import Counter\n",
    "\n",
    "# 计算每个人名出现的次数\n",
    "def find_person(doc):\n",
    "    c = Counter()\n",
    "    for ent in processed_text.ents:\n",
    "        if ent.label_ == 'PERSON':\n",
    "            c[ent.lemma_] += 1\n",
    "            \n",
    "    return c.most_common(10)\n",
    "\n",
    "print(find_person(processed_text))"
   ]
  },
  {
   "cell_type": "code",
   "execution_count": null,
   "id": "c8bfc815",
   "metadata": {},
   "outputs": [],
   "source": []
  }
 ],
 "metadata": {
  "kernelspec": {
   "display_name": "Python 3",
   "language": "python",
   "name": "python3"
  },
  "language_info": {
   "codemirror_mode": {
    "name": "ipython",
    "version": 3
   },
   "file_extension": ".py",
   "mimetype": "text/x-python",
   "name": "python",
   "nbconvert_exporter": "python",
   "pygments_lexer": "ipython3",
   "version": "3.7.10"
  }
 },
 "nbformat": 4,
 "nbformat_minor": 5
}
