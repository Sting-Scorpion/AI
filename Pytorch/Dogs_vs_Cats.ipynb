{
 "cells": [
  {
   "cell_type": "markdown",
   "id": "8a545151",
   "metadata": {},
   "source": [
    "# 猫狗分类任务"
   ]
  },
  {
   "cell_type": "code",
   "execution_count": 1,
   "id": "23f93473",
   "metadata": {},
   "outputs": [],
   "source": [
    "# 防止内核挂掉\n",
    "import os\n",
    "os.environ[\"KMP_DUPLICATE_LIB_OK\"]  =  \"TRUE\""
   ]
  },
  {
   "cell_type": "code",
   "execution_count": 2,
   "id": "024fd499",
   "metadata": {},
   "outputs": [],
   "source": [
    "import torch\n",
    "import torch.nn as nn\n",
    "import torch.optim as optim\n",
    "from torchvision import datasets, transforms, models\n",
    "from torch.utils.data import DataLoader\n",
    "import sys\n",
    "import matplotlib.pyplot as plt"
   ]
  },
  {
   "cell_type": "markdown",
   "id": "d38e8f42",
   "metadata": {},
   "source": [
    "### 数据预处理"
   ]
  },
  {
   "cell_type": "code",
   "execution_count": 3,
   "id": "15ec5c38",
   "metadata": {},
   "outputs": [],
   "source": [
    "# 数据增强\n",
    "transform = transforms.Compose([\n",
    "    transforms.RandomResizedCrop(224), # 对图像进行随机的crop后再resize成固定的大小\n",
    "    transforms.RandomRotation(20), # 随机选择角度\n",
    "    transforms.RandomHorizontalFlip(p=0.5), # 随机水平翻转\n",
    "    transforms.ToTensor()\n",
    "])"
   ]
  },
  {
   "cell_type": "code",
   "execution_count": 4,
   "id": "a937bdc8",
   "metadata": {},
   "outputs": [],
   "source": [
    "# 导入数据\n",
    "root = './data/dog_vs_cat'\n",
    "train_dataset = datasets.ImageFolder(root + '/simple_train', transform)\n",
    "test_dataset = datasets.ImageFolder(root + '/simple_eval', transform)\n",
    "\n",
    "train_loader = DataLoader(train_dataset, batch_size=8, shuffle=True)\n",
    "test_loader = DataLoader(test_dataset, batch_size=8, shuffle=True)"
   ]
  },
  {
   "cell_type": "code",
   "execution_count": 5,
   "id": "71324a84",
   "metadata": {},
   "outputs": [
    {
     "name": "stdout",
     "output_type": "stream",
     "text": [
      "['cat', 'dog']\n",
      "{'cat': 0, 'dog': 1}\n"
     ]
    }
   ],
   "source": [
    "# 查看训练集\n",
    "classes = train_dataset.classes\n",
    "classes_index = train_dataset.class_to_idx\n",
    "\n",
    "print(classes)\n",
    "print(classes_index)"
   ]
  },
  {
   "cell_type": "markdown",
   "id": "49db8410",
   "metadata": {},
   "source": [
    "### 载入模型\n",
    "\n",
    "实际上是卷积层与池化层的叠加\n",
    "\n",
    "- 卷积层 - 特征提取，再把特征传给全连接层\n",
    "- 全连接层 - 分类"
   ]
  },
  {
   "cell_type": "code",
   "execution_count": 6,
   "id": "e2dfc975",
   "metadata": {},
   "outputs": [
    {
     "name": "stderr",
     "output_type": "stream",
     "text": [
      "D:\\Download\\anaconda3\\envs\\deep_learn\\Lib\\site-packages\\torchvision\\models\\_utils.py:208: UserWarning: The parameter 'pretrained' is deprecated since 0.13 and may be removed in the future, please use 'weights' instead.\n",
      "  warnings.warn(\n",
      "D:\\Download\\anaconda3\\envs\\deep_learn\\Lib\\site-packages\\torchvision\\models\\_utils.py:223: UserWarning: Arguments other than a weight enum or `None` for 'weights' are deprecated since 0.13 and may be removed in the future. The current behavior is equivalent to passing `weights=VGG16_Weights.IMAGENET1K_V1`. You can also use `weights=VGG16_Weights.DEFAULT` to get the most up-to-date weights.\n",
      "  warnings.warn(msg)\n",
      "Downloading: \"https://download.pytorch.org/models/vgg16-397923af.pth\" to C:\\Users\\明月空悬/.cache\\torch\\hub\\checkpoints\\vgg16-397923af.pth\n",
      "100.0%\n"
     ]
    },
    {
     "name": "stdout",
     "output_type": "stream",
     "text": [
      "VGG(\n",
      "  (features): Sequential(\n",
      "    (0): Conv2d(3, 64, kernel_size=(3, 3), stride=(1, 1), padding=(1, 1))\n",
      "    (1): ReLU(inplace=True)\n",
      "    (2): Conv2d(64, 64, kernel_size=(3, 3), stride=(1, 1), padding=(1, 1))\n",
      "    (3): ReLU(inplace=True)\n",
      "    (4): MaxPool2d(kernel_size=2, stride=2, padding=0, dilation=1, ceil_mode=False)\n",
      "    (5): Conv2d(64, 128, kernel_size=(3, 3), stride=(1, 1), padding=(1, 1))\n",
      "    (6): ReLU(inplace=True)\n",
      "    (7): Conv2d(128, 128, kernel_size=(3, 3), stride=(1, 1), padding=(1, 1))\n",
      "    (8): ReLU(inplace=True)\n",
      "    (9): MaxPool2d(kernel_size=2, stride=2, padding=0, dilation=1, ceil_mode=False)\n",
      "    (10): Conv2d(128, 256, kernel_size=(3, 3), stride=(1, 1), padding=(1, 1))\n",
      "    (11): ReLU(inplace=True)\n",
      "    (12): Conv2d(256, 256, kernel_size=(3, 3), stride=(1, 1), padding=(1, 1))\n",
      "    (13): ReLU(inplace=True)\n",
      "    (14): Conv2d(256, 256, kernel_size=(3, 3), stride=(1, 1), padding=(1, 1))\n",
      "    (15): ReLU(inplace=True)\n",
      "    (16): MaxPool2d(kernel_size=2, stride=2, padding=0, dilation=1, ceil_mode=False)\n",
      "    (17): Conv2d(256, 512, kernel_size=(3, 3), stride=(1, 1), padding=(1, 1))\n",
      "    (18): ReLU(inplace=True)\n",
      "    (19): Conv2d(512, 512, kernel_size=(3, 3), stride=(1, 1), padding=(1, 1))\n",
      "    (20): ReLU(inplace=True)\n",
      "    (21): Conv2d(512, 512, kernel_size=(3, 3), stride=(1, 1), padding=(1, 1))\n",
      "    (22): ReLU(inplace=True)\n",
      "    (23): MaxPool2d(kernel_size=2, stride=2, padding=0, dilation=1, ceil_mode=False)\n",
      "    (24): Conv2d(512, 512, kernel_size=(3, 3), stride=(1, 1), padding=(1, 1))\n",
      "    (25): ReLU(inplace=True)\n",
      "    (26): Conv2d(512, 512, kernel_size=(3, 3), stride=(1, 1), padding=(1, 1))\n",
      "    (27): ReLU(inplace=True)\n",
      "    (28): Conv2d(512, 512, kernel_size=(3, 3), stride=(1, 1), padding=(1, 1))\n",
      "    (29): ReLU(inplace=True)\n",
      "    (30): MaxPool2d(kernel_size=2, stride=2, padding=0, dilation=1, ceil_mode=False)\n",
      "  )\n",
      "  (avgpool): AdaptiveAvgPool2d(output_size=(7, 7))\n",
      "  (classifier): Sequential(\n",
      "    (0): Linear(in_features=25088, out_features=4096, bias=True)\n",
      "    (1): ReLU(inplace=True)\n",
      "    (2): Dropout(p=0.5, inplace=False)\n",
      "    (3): Linear(in_features=4096, out_features=4096, bias=True)\n",
      "    (4): ReLU(inplace=True)\n",
      "    (5): Dropout(p=0.5, inplace=False)\n",
      "    (6): Linear(in_features=4096, out_features=1000, bias=True)\n",
      "  )\n",
      ")\n"
     ]
    }
   ],
   "source": [
    "model = models.vgg16(pretrained=True)\n",
    "\n",
    "# 打印模型结构\n",
    "print(model)"
   ]
  },
  {
   "cell_type": "markdown",
   "id": "9a1bc5e4",
   "metadata": {},
   "source": [
    "### 迁移学习\n",
    "\n",
    "使用原模型的卷积层，计算完后再使用自己定义的新全连接层完成特定任务"
   ]
  },
  {
   "cell_type": "code",
   "execution_count": 7,
   "id": "e5ea0b21",
   "metadata": {},
   "outputs": [],
   "source": [
    "# 原网络的参数不进行训练 -> 只训练自己的新全连接层\n",
    "##非必须\n",
    "for parma in model.parameters():\n",
    "    parma.requires_grad = False\n",
    "    \n",
    "# 新的全连接层\n",
    "model.classifier = nn.Sequential(nn.Linear(25088, 100), \n",
    "                                 nn.ReLU(), \n",
    "                                 nn.Dropout(p=0.5), \n",
    "                                 nn.Linear(100, 2))"
   ]
  },
  {
   "cell_type": "code",
   "execution_count": 8,
   "id": "52020fd1",
   "metadata": {},
   "outputs": [],
   "source": [
    "LR = 0.0003\n",
    "# 损失函数\n",
    "entropy_loss = nn.CrossEntropyLoss()\n",
    "# 优化器\n",
    "optimizer = optim.Adam(model.parameters(), LR)"
   ]
  },
  {
   "cell_type": "markdown",
   "id": "7869f230",
   "metadata": {},
   "source": [
    "### 定义训练与测试方法"
   ]
  },
  {
   "cell_type": "code",
   "execution_count": 9,
   "id": "9656d444",
   "metadata": {},
   "outputs": [],
   "source": [
    "def train():\n",
    "    model.train()\n",
    "    for i, data in enumerate(train_loader):\n",
    "        # 数据与标签\n",
    "        inputs, labels = data\n",
    "        # 模型预测结果\n",
    "        out = model(inputs)\n",
    "        # 损失函数\n",
    "        loss = entropy_loss(out, labels)\n",
    "        # 梯度清零\n",
    "        optimizer.zero_grad()\n",
    "        # 梯度计算\n",
    "        loss.backward()\n",
    "        # 更新权值\n",
    "        optimizer.step()"
   ]
  },
  {
   "cell_type": "code",
   "execution_count": 10,
   "id": "6cdd5a2e",
   "metadata": {},
   "outputs": [],
   "source": [
    "train_acc = []\n",
    "test_acc = []\n",
    "\n",
    "def test():\n",
    "    model.eval()\n",
    "    correct = 0\n",
    "    \n",
    "    for i, data in enumerate(test_loader):\n",
    "        # 数据与标签\n",
    "        inputs, labels = data\n",
    "        # 模型预测结果\n",
    "        out = model(inputs)\n",
    "        # 最大值及其所在位置\n",
    "        _, predicted = torch.max(out, 1)\n",
    "        # 正确的数量\n",
    "        correct += (predicted == labels).sum()\n",
    "        \n",
    "    acc = correct.item() / len(test_dataset)\n",
    "    test_acc.append(acc)\n",
    "    print(f'Test acc: {acc}')\n",
    "    \n",
    "    correct = 0\n",
    "    for i, data in enumerate(train_loader):\n",
    "        # 数据与标签\n",
    "        inputs, labels = data\n",
    "        # 模型预测结果\n",
    "        out = model(inputs)\n",
    "        # 最大值及其所在位置\n",
    "        _, predicted = torch.max(out, 1)\n",
    "        # 正确的数量\n",
    "        correct += (predicted == labels).sum()\n",
    "        \n",
    "    acc = correct.item() / len(train_dataset)\n",
    "    train_acc.append(acc)\n",
    "    print(f'Train acc: {acc}')"
   ]
  },
  {
   "cell_type": "markdown",
   "id": "d9d2f433",
   "metadata": {},
   "source": [
    "### 训练"
   ]
  },
  {
   "cell_type": "code",
   "execution_count": 11,
   "id": "701367ee",
   "metadata": {},
   "outputs": [
    {
     "name": "stdout",
     "output_type": "stream",
     "text": [
      "epoch:  0\n",
      "Test acc: 0.87\n",
      "Train acc: 0.869\n",
      "epoch:  1\n",
      "Test acc: 0.895\n",
      "Train acc: 0.878\n",
      "epoch:  2\n",
      "Test acc: 0.875\n",
      "Train acc: 0.8865\n",
      "epoch:  3\n",
      "Test acc: 0.905\n",
      "Train acc: 0.893\n",
      "epoch:  4\n",
      "Test acc: 0.86\n",
      "Train acc: 0.896\n",
      "epoch:  5\n",
      "Test acc: 0.91\n",
      "Train acc: 0.9045\n",
      "epoch:  6\n",
      "Test acc: 0.905\n",
      "Train acc: 0.9035\n",
      "epoch:  7\n",
      "Test acc: 0.91\n",
      "Train acc: 0.9045\n",
      "epoch:  8\n",
      "Test acc: 0.87\n",
      "Train acc: 0.908\n",
      "epoch:  9\n",
      "Test acc: 0.915\n",
      "Train acc: 0.904\n"
     ]
    }
   ],
   "source": [
    "for epoch in range(10):\n",
    "    print('epoch: ', epoch)\n",
    "    train()\n",
    "    test()"
   ]
  },
  {
   "cell_type": "code",
   "execution_count": 12,
   "id": "7cc25b79",
   "metadata": {},
   "outputs": [
    {
     "data": {
      "image/png": "[encoded data removed]",
      "text/plain": [
       "<Figure size 640x480 with 1 Axes>"
      ]
     },
     "metadata": {},
     "output_type": "display_data"
    }
   ],
   "source": [
    "plt.plot(range(10), train_acc, label='train')\n",
    "plt.plot(range(10), test_acc, label='test')\n",
    "plt.legend()\n",
    "plt.show()"
   ]
  },
  {
   "cell_type": "code",
   "execution_count": 13,
   "id": "434ec334",
   "metadata": {},
   "outputs": [],
   "source": [
    "torch.save(model.state_dict(), 'model/cat_dog.pth')"
   ]
  }
 ],
 "metadata": {
  "kernelspec": {
   "display_name": "deep_learn",
   "language": "python",
   "name": "deep_learn"
  },
  "language_info": {
   "codemirror_mode": {
    "name": "ipython",
    "version": 3
   },
   "file_extension": ".py",
   "mimetype": "text/x-python",
   "name": "python",
   "nbconvert_exporter": "python",
   "pygments_lexer": "ipython3",
   "version": "3.11.2"
  }
 },
 "nbformat": 4,
 "nbformat_minor": 5
}
