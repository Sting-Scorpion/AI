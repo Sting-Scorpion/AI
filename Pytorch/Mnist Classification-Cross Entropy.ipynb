{
 "cells": [
  {
   "cell_type": "markdown",
   "id": "4287498f",
   "metadata": {},
   "source": [
    "## 用Mnist数据集进行分类算法"
   ]
  },
  {
   "cell_type": "code",
   "execution_count": 1,
   "id": "c42070b8",
   "metadata": {},
   "outputs": [],
   "source": [
    "# 防止内核挂掉\n",
    "import os\n",
    "os.environ[\"KMP_DUPLICATE_LIB_OK\"]  =  \"TRUE\""
   ]
  },
  {
   "cell_type": "code",
   "execution_count": 2,
   "id": "7f48faf8",
   "metadata": {},
   "outputs": [],
   "source": [
    "import numpy as np\n",
    "from torch import nn, optim\n",
    "from torch.autograd import Variable\n",
    "from torchvision import datasets, transforms\n",
    "from torch.utils.data import DataLoader\n",
    "import torch"
   ]
  },
  {
   "cell_type": "markdown",
   "id": "ee20bf64",
   "metadata": {},
   "source": [
    "导入数据集"
   ]
  },
  {
   "cell_type": "code",
   "execution_count": 3,
   "id": "95fa37af",
   "metadata": {},
   "outputs": [],
   "source": [
    "# 训练集\n",
    "train_dataset = datasets.MNIST(root='./data/', \n",
    "                               train=True, \n",
    "                               transform=transforms.ToTensor(), \n",
    "                               download=True)\n",
    "\n",
    "# 测试集\n",
    "test_dataset = datasets.MNIST(root='./data/', \n",
    "                               train=False, \n",
    "                               transform=transforms.ToTensor(), \n",
    "                               download=True)"
   ]
  },
  {
   "cell_type": "markdown",
   "id": "457d1388",
   "metadata": {},
   "source": [
    "批次设置"
   ]
  },
  {
   "cell_type": "code",
   "execution_count": 4,
   "id": "7e513fa2",
   "metadata": {},
   "outputs": [],
   "source": [
    "# 批次大小\n",
    "batch_size = 64 # 每次传入数据的量\n",
    "\n",
    "# 装载训练集\n",
    "train_loader = DataLoader(dataset=train_dataset, \n",
    "                          batch_size=batch_size, \n",
    "                          shuffle=True) # 打乱数据集\n",
    "\n",
    "# 装载测试集\n",
    "test_loader = DataLoader(dataset=test_dataset, \n",
    "                          batch_size=batch_size, \n",
    "                          shuffle=True)"
   ]
  },
  {
   "cell_type": "markdown",
   "id": "412563d2",
   "metadata": {},
   "source": [
    "查看第一个loader中的数据"
   ]
  },
  {
   "cell_type": "code",
   "execution_count": 5,
   "id": "feb7fdd4",
   "metadata": {},
   "outputs": [
    {
     "name": "stdout",
     "output_type": "stream",
     "text": [
      "input shape:  torch.Size([64, 1, 28, 28])\n",
      "label shape:  torch.Size([64])\n",
      "labels:  tensor([8, 4, 4, 1, 9, 5, 7, 7, 4, 1, 4, 9, 7, 9, 1, 4, 4, 1, 4, 9, 5, 0, 6, 0,\n",
      "        7, 1, 6, 1, 5, 4, 4, 7, 4, 3, 6, 4, 2, 0, 3, 1, 2, 1, 1, 8, 8, 1, 5, 7,\n",
      "        1, 3, 8, 8, 7, 0, 7, 4, 7, 8, 4, 9, 7, 6, 0, 4])\n"
     ]
    }
   ],
   "source": [
    "inputs, labels = next(iter(train_loader))\n",
    "print('input shape: ', inputs.shape)\n",
    "print('label shape: ', labels.shape)\n",
    "print('labels: ', labels)"
   ]
  },
  {
   "cell_type": "markdown",
   "id": "e068f64b",
   "metadata": {},
   "source": [
    "### 网络结构"
   ]
  },
  {
   "cell_type": "code",
   "execution_count": 6,
   "id": "b018d82a",
   "metadata": {},
   "outputs": [],
   "source": [
    "# 定义网络结构\n",
    "class Net(nn.Module):\n",
    "    def __init__(self):\n",
    "        super(Net, self).__init__()\n",
    "        self.fc1 = nn.Linear(784, 10)\n",
    "        self.softmax = nn.Softmax(dim=1)\n",
    "        \n",
    "    def forward(self, x):\n",
    "        # 首先需要给数据进行处理，将原来[64, 1, 28, 28](样本数，通道数，长，宽)变为[64, 728]的形状\n",
    "        # 全连接层输入必须是二维数据\n",
    "        x = x.view(x.size()[0], -1)\n",
    "        \n",
    "        layer1 = self.fc1(x)\n",
    "        layer2 = self.softmax(layer1)\n",
    "        \n",
    "        return layer2"
   ]
  },
  {
   "cell_type": "markdown",
   "id": "bae91ae7",
   "metadata": {},
   "source": [
    "### 模型参数"
   ]
  },
  {
   "cell_type": "code",
   "execution_count": 7,
   "id": "e5a3285c",
   "metadata": {},
   "outputs": [],
   "source": [
    "# 定义模型\n",
    "model = Net()\n",
    "\n",
    "# 损失函数\n",
    "crossentropy_loss = nn.CrossEntropyLoss()\n",
    "\n",
    "# 优化器\n",
    "optimizer = optim.SGD(model.parameters(), lr=0.5)"
   ]
  },
  {
   "cell_type": "markdown",
   "id": "22db152d",
   "metadata": {},
   "source": [
    "### 训练与测试的方法"
   ]
  },
  {
   "cell_type": "code",
   "execution_count": 8,
   "id": "370dd453",
   "metadata": {},
   "outputs": [],
   "source": [
    "# 训练的方法\n",
    "def train():\n",
    "    for i, data in enumerate(train_loader):\n",
    "        # 获取一个批次的数据与标签\n",
    "        inputs, labels = data\n",
    "        # 数据传给模型，得到预测结果\n",
    "        out = model(inputs)\n",
    "        # 计算loss\n",
    "        loss = crossentropy_loss(out, labels) # 交叉熵不用one-hot编码\n",
    "        # 梯度清零\n",
    "        optimizer.zero_grad()\n",
    "        # 计算梯度\n",
    "        loss.backward()\n",
    "        # 修改权值\n",
    "        optimizer.step()"
   ]
  },
  {
   "cell_type": "code",
   "execution_count": 9,
   "id": "4355767f",
   "metadata": {},
   "outputs": [],
   "source": [
    "# 测试的方法\n",
    "def test():\n",
    "    correct = 0\n",
    "    for i, data in enumerate(test_loader):\n",
    "        # 获取一个批次的数据与标签\n",
    "        inputs, labels = data\n",
    "        # 数据传给模型，得到预测结果\n",
    "        out = model(inputs)\n",
    "        # 获得最大值与其所在位置\n",
    "        _, predicted = torch.max(out, 1)\n",
    "        # 预测正确的个数\n",
    "        correct += (predicted == labels).sum()\n",
    "    \n",
    "    print(f'Test acc: {correct.item()/len(test_dataset)}')"
   ]
  },
  {
   "cell_type": "code",
   "execution_count": 10,
   "id": "ae3d7b8f",
   "metadata": {},
   "outputs": [
    {
     "name": "stdout",
     "output_type": "stream",
     "text": [
      "epoch: 0\n",
      "Test acc: 0.906\n",
      "epoch: 1\n",
      "Test acc: 0.9117\n",
      "epoch: 2\n",
      "Test acc: 0.9173\n",
      "epoch: 3\n",
      "Test acc: 0.9192\n",
      "epoch: 4\n",
      "Test acc: 0.9213\n",
      "epoch: 5\n",
      "Test acc: 0.9222\n",
      "epoch: 6\n",
      "Test acc: 0.9218\n",
      "epoch: 7\n",
      "Test acc: 0.9233\n",
      "epoch: 8\n",
      "Test acc: 0.9238\n",
      "epoch: 9\n",
      "Test acc: 0.9233\n"
     ]
    }
   ],
   "source": [
    "for epoch in range(10):\n",
    "    print(f'epoch: {epoch}')\n",
    "    train()\n",
    "    test()"
   ]
  },
  {
   "cell_type": "code",
   "execution_count": null,
   "id": "dcbeaad0",
   "metadata": {},
   "outputs": [],
   "source": []
  }
 ],
 "metadata": {
  "kernelspec": {
   "display_name": "deep_learn",
   "language": "python",
   "name": "deep_learn"
  },
  "language_info": {
   "codemirror_mode": {
    "name": "ipython",
    "version": 3
   },
   "file_extension": ".py",
   "mimetype": "text/x-python",
   "name": "python",
   "nbconvert_exporter": "python",
   "pygments_lexer": "ipython3",
   "version": "3.11.2"
  }
 },
 "nbformat": 4,
 "nbformat_minor": 5
}
