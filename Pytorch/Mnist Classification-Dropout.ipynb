{
 "cells": [
  {
   "cell_type": "markdown",
   "id": "4287498f",
   "metadata": {},
   "source": [
    "## 用Mnist数据集进行分类算法"
   ]
  },
  {
   "cell_type": "code",
   "execution_count": 1,
   "id": "c42070b8",
   "metadata": {},
   "outputs": [],
   "source": [
    "# 防止内核挂掉\n",
    "import os\n",
    "os.environ[\"KMP_DUPLICATE_LIB_OK\"]  =  \"TRUE\""
   ]
  },
  {
   "cell_type": "code",
   "execution_count": 2,
   "id": "7f48faf8",
   "metadata": {},
   "outputs": [],
   "source": [
    "import numpy as np\n",
    "from torch import nn, optim\n",
    "from torch.autograd import Variable\n",
    "from torchvision import datasets, transforms\n",
    "from torch.utils.data import DataLoader\n",
    "import torch"
   ]
  },
  {
   "cell_type": "markdown",
   "id": "ee20bf64",
   "metadata": {},
   "source": [
    "导入数据集"
   ]
  },
  {
   "cell_type": "code",
   "execution_count": 3,
   "id": "95fa37af",
   "metadata": {},
   "outputs": [],
   "source": [
    "# 训练集\n",
    "train_dataset = datasets.MNIST(root='./data/', \n",
    "                               train=True, \n",
    "                               transform=transforms.ToTensor(), \n",
    "                               download=True)\n",
    "\n",
    "# 测试集\n",
    "test_dataset = datasets.MNIST(root='./data/', \n",
    "                               train=False, \n",
    "                               transform=transforms.ToTensor(), \n",
    "                               download=True)"
   ]
  },
  {
   "cell_type": "markdown",
   "id": "457d1388",
   "metadata": {},
   "source": [
    "批次设置"
   ]
  },
  {
   "cell_type": "code",
   "execution_count": 4,
   "id": "7e513fa2",
   "metadata": {},
   "outputs": [],
   "source": [
    "# 批次大小\n",
    "batch_size = 64 # 每次传入数据的量\n",
    "\n",
    "# 装载训练集\n",
    "train_loader = DataLoader(dataset=train_dataset, \n",
    "                          batch_size=batch_size, \n",
    "                          shuffle=True) # 打乱数据集\n",
    "\n",
    "# 装载测试集\n",
    "test_loader = DataLoader(dataset=test_dataset, \n",
    "                          batch_size=batch_size, \n",
    "                          shuffle=True)"
   ]
  },
  {
   "cell_type": "markdown",
   "id": "412563d2",
   "metadata": {},
   "source": [
    "查看第一个loader中的数据"
   ]
  },
  {
   "cell_type": "code",
   "execution_count": 5,
   "id": "feb7fdd4",
   "metadata": {},
   "outputs": [
    {
     "name": "stdout",
     "output_type": "stream",
     "text": [
      "input shape:  torch.Size([64, 1, 28, 28])\n",
      "label shape:  torch.Size([64])\n",
      "labels:  tensor([0, 1, 1, 6, 7, 7, 6, 0, 7, 2, 8, 9, 8, 9, 9, 7, 7, 1, 3, 4, 4, 7, 9, 6,\n",
      "        7, 5, 3, 6, 1, 2, 0, 3, 4, 0, 4, 4, 6, 5, 2, 5, 8, 5, 1, 0, 1, 1, 0, 5,\n",
      "        5, 6, 1, 2, 4, 8, 2, 2, 1, 7, 0, 7, 4, 8, 9, 4])\n"
     ]
    }
   ],
   "source": [
    "inputs, labels = next(iter(train_loader))\n",
    "print('input shape: ', inputs.shape)\n",
    "print('label shape: ', labels.shape)\n",
    "print('labels: ', labels)"
   ]
  },
  {
   "cell_type": "markdown",
   "id": "e068f64b",
   "metadata": {},
   "source": [
    "### 网络结构"
   ]
  },
  {
   "cell_type": "code",
   "execution_count": 6,
   "id": "b018d82a",
   "metadata": {},
   "outputs": [],
   "source": [
    "# 定义网络结构\n",
    "class Net(nn.Module):\n",
    "    def __init__(self):\n",
    "        super(Net, self).__init__()\n",
    "        self.layer1 = nn.Sequential(nn.Linear(784, 500), nn.Dropout(p=0.5), nn.Tanh())\n",
    "        self.layer2 = nn.Sequential(nn.Linear(500, 300), nn.Dropout(p=0.5), nn.Tanh())\n",
    "        self.layer3 = nn.Sequential(nn.Linear(300, 10), nn.Softmax(dim=1))\n",
    "        \n",
    "    def forward(self, x):\n",
    "        # 首先需要给数据进行处理，将原来[64, 1, 28, 28](样本数，通道数，长，宽)变为[64, 728]的形状\n",
    "        # 全连接层输入必须是二维数据\n",
    "        x = x.view(x.size()[0], -1)\n",
    "        \n",
    "        z1 = self.layer1(x)\n",
    "        z2 = self.layer2(z1)\n",
    "        output = self.layer3(z2)\n",
    "        \n",
    "        return output"
   ]
  },
  {
   "cell_type": "markdown",
   "id": "bae91ae7",
   "metadata": {},
   "source": [
    "### 模型参数"
   ]
  },
  {
   "cell_type": "code",
   "execution_count": 7,
   "id": "e5a3285c",
   "metadata": {},
   "outputs": [],
   "source": [
    "# 定义模型\n",
    "model = Net()\n",
    "\n",
    "# 损失函数\n",
    "crossentropy_loss = nn.CrossEntropyLoss()\n",
    "\n",
    "# 优化器\n",
    "optimizer = optim.SGD(model.parameters(), lr=0.5)"
   ]
  },
  {
   "cell_type": "markdown",
   "id": "22db152d",
   "metadata": {},
   "source": [
    "### 训练与测试的方法"
   ]
  },
  {
   "cell_type": "code",
   "execution_count": 8,
   "id": "370dd453",
   "metadata": {},
   "outputs": [],
   "source": [
    "# 训练的方法\n",
    "def train():\n",
    "    # 模型的训练状态\n",
    "    # 模型会Dropout\n",
    "    model.train()\n",
    "    for i, data in enumerate(train_loader):\n",
    "        # 获取一个批次的数据与标签\n",
    "        inputs, labels = data\n",
    "        # 数据传给模型，得到预测结果\n",
    "        out = model(inputs)\n",
    "        # 计算loss\n",
    "        loss = crossentropy_loss(out, labels) # 交叉熵不用one-hot编码\n",
    "        # 梯度清零\n",
    "        optimizer.zero_grad()\n",
    "        # 计算梯度\n",
    "        loss.backward()\n",
    "        # 修改权值\n",
    "        optimizer.step()"
   ]
  },
  {
   "cell_type": "code",
   "execution_count": 9,
   "id": "4355767f",
   "metadata": {},
   "outputs": [],
   "source": [
    "# 测试的方法\n",
    "def test():\n",
    "    # 模型的验证测试状态\n",
    "    # 模型不会Dropout\n",
    "    model.eval()\n",
    "    correct = 0\n",
    "    for i, data in enumerate(test_loader):\n",
    "        # 获取一个批次的数据与标签\n",
    "        inputs, labels = data\n",
    "        # 数据传给模型，得到预测结果\n",
    "        out = model(inputs)\n",
    "        # 获得最大值与其所在位置\n",
    "        _, predicted = torch.max(out, 1)\n",
    "        # 预测正确的个数\n",
    "        correct += (predicted == labels).sum()\n",
    "    \n",
    "    print(f'Test acc: {correct.item()/len(test_dataset)}')\n",
    "\n",
    "    correct = 0\n",
    "    for i, data in enumerate(train_loader):\n",
    "        # 获取一个批次的数据与标签\n",
    "        inputs, labels = data\n",
    "        # 数据传给模型，得到预测结果\n",
    "        out = model(inputs)\n",
    "        # 获得最大值与其所在位置\n",
    "        _, predicted = torch.max(out, 1)\n",
    "        # 预测正确的个数\n",
    "        correct += (predicted == labels).sum()\n",
    "    \n",
    "    print(f'Train acc: {correct.item()/len(train_dataset)}')"
   ]
  },
  {
   "cell_type": "code",
   "execution_count": 10,
   "id": "ae3d7b8f",
   "metadata": {},
   "outputs": [
    {
     "name": "stdout",
     "output_type": "stream",
     "text": [
      "epoch: 0\n",
      "Test acc: 0.92\n",
      "Train acc: 0.9145333333333333\n",
      "epoch: 1\n",
      "Test acc: 0.9322\n",
      "Train acc: 0.9311833333333334\n",
      "epoch: 2\n",
      "Test acc: 0.9389\n",
      "Train acc: 0.9380333333333334\n",
      "epoch: 3\n",
      "Test acc: 0.9446\n",
      "Train acc: 0.9482\n",
      "epoch: 4\n",
      "Test acc: 0.9462\n",
      "Train acc: 0.94825\n",
      "epoch: 5\n",
      "Test acc: 0.9507\n",
      "Train acc: 0.9559166666666666\n",
      "epoch: 6\n",
      "Test acc: 0.951\n",
      "Train acc: 0.9567166666666667\n",
      "epoch: 7\n",
      "Test acc: 0.9545\n",
      "Train acc: 0.9584833333333334\n",
      "epoch: 8\n",
      "Test acc: 0.9574\n",
      "Train acc: 0.9627833333333333\n",
      "epoch: 9\n",
      "Test acc: 0.9591\n",
      "Train acc: 0.9640166666666666\n",
      "epoch: 10\n",
      "Test acc: 0.9604\n",
      "Train acc: 0.9667\n",
      "epoch: 11\n",
      "Test acc: 0.9609\n",
      "Train acc: 0.9661666666666666\n",
      "epoch: 12\n",
      "Test acc: 0.9593\n",
      "Train acc: 0.9666333333333333\n",
      "epoch: 13\n",
      "Test acc: 0.9653\n",
      "Train acc: 0.97135\n",
      "epoch: 14\n",
      "Test acc: 0.9638\n",
      "Train acc: 0.9704833333333334\n",
      "epoch: 15\n",
      "Test acc: 0.9656\n",
      "Train acc: 0.9727\n",
      "epoch: 16\n",
      "Test acc: 0.9644\n",
      "Train acc: 0.9722333333333333\n",
      "epoch: 17\n",
      "Test acc: 0.9664\n",
      "Train acc: 0.97375\n",
      "epoch: 18\n",
      "Test acc: 0.968\n",
      "Train acc: 0.9750166666666666\n",
      "epoch: 19\n",
      "Test acc: 0.967\n",
      "Train acc: 0.97445\n"
     ]
    }
   ],
   "source": [
    "for epoch in range(20):\n",
    "    print(f'epoch: {epoch}')\n",
    "    train()\n",
    "    test()"
   ]
  },
  {
   "cell_type": "code",
   "execution_count": null,
   "id": "dcbeaad0",
   "metadata": {},
   "outputs": [],
   "source": []
  }
 ],
 "metadata": {
  "kernelspec": {
   "display_name": "deep_learn",
   "language": "python",
   "name": "deep_learn"
  },
  "language_info": {
   "codemirror_mode": {
    "name": "ipython",
    "version": 3
   },
   "file_extension": ".py",
   "mimetype": "text/x-python",
   "name": "python",
   "nbconvert_exporter": "python",
   "pygments_lexer": "ipython3",
   "version": "3.11.2"
  }
 },
 "nbformat": 4,
 "nbformat_minor": 5
}
