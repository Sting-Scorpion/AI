{
 "cells": [
  {
   "cell_type": "markdown",
   "id": "4287498f",
   "metadata": {},
   "source": [
    "## 用Mnist数据集进行分类算法"
   ]
  },
  {
   "cell_type": "code",
   "execution_count": 1,
   "id": "c42070b8",
   "metadata": {},
   "outputs": [],
   "source": [
    "# 防止内核挂掉\n",
    "import os\n",
    "os.environ[\"KMP_DUPLICATE_LIB_OK\"]  =  \"TRUE\""
   ]
  },
  {
   "cell_type": "code",
   "execution_count": 2,
   "id": "7f48faf8",
   "metadata": {},
   "outputs": [],
   "source": [
    "import numpy as np\n",
    "from torch import nn, optim\n",
    "from torch.autograd import Variable\n",
    "from torchvision import datasets, transforms\n",
    "from torch.utils.data import DataLoader\n",
    "import torch"
   ]
  },
  {
   "cell_type": "markdown",
   "id": "ee20bf64",
   "metadata": {},
   "source": [
    "导入数据集"
   ]
  },
  {
   "cell_type": "code",
   "execution_count": 3,
   "id": "95fa37af",
   "metadata": {},
   "outputs": [],
   "source": [
    "# 训练集\n",
    "train_dataset = datasets.MNIST(root='./data/', \n",
    "                               train=True, \n",
    "                               transform=transforms.ToTensor(), \n",
    "                               download=True)\n",
    "\n",
    "# 测试集\n",
    "test_dataset = datasets.MNIST(root='./data/', \n",
    "                               train=False, \n",
    "                               transform=transforms.ToTensor(), \n",
    "                               download=True)"
   ]
  },
  {
   "cell_type": "markdown",
   "id": "457d1388",
   "metadata": {},
   "source": [
    "批次设置"
   ]
  },
  {
   "cell_type": "code",
   "execution_count": 4,
   "id": "7e513fa2",
   "metadata": {},
   "outputs": [],
   "source": [
    "# 批次大小\n",
    "batch_size = 64 # 每次传入数据的量\n",
    "\n",
    "# 装载训练集\n",
    "train_loader = DataLoader(dataset=train_dataset, \n",
    "                          batch_size=batch_size, \n",
    "                          shuffle=True) # 打乱数据集\n",
    "\n",
    "# 装载测试集\n",
    "test_loader = DataLoader(dataset=test_dataset, \n",
    "                          batch_size=batch_size, \n",
    "                          shuffle=True)"
   ]
  },
  {
   "cell_type": "markdown",
   "id": "412563d2",
   "metadata": {},
   "source": [
    "查看第一个loader中的数据"
   ]
  },
  {
   "cell_type": "code",
   "execution_count": 5,
   "id": "feb7fdd4",
   "metadata": {},
   "outputs": [
    {
     "name": "stdout",
     "output_type": "stream",
     "text": [
      "input shape:  torch.Size([64, 1, 28, 28])\n",
      "label shape:  torch.Size([64])\n",
      "labels:  tensor([4, 6, 9, 6, 9, 1, 2, 7, 6, 1, 6, 1, 3, 9, 5, 3, 0, 2, 5, 7, 4, 5, 7, 1,\n",
      "        9, 7, 8, 4, 2, 3, 5, 4, 6, 7, 6, 8, 2, 8, 6, 8, 4, 5, 1, 6, 2, 8, 4, 0,\n",
      "        8, 2, 5, 1, 9, 4, 4, 9, 0, 3, 2, 2, 0, 0, 4, 2])\n"
     ]
    }
   ],
   "source": [
    "inputs, labels = next(iter(train_loader))\n",
    "print('input shape: ', inputs.shape)\n",
    "print('label shape: ', labels.shape)\n",
    "print('labels: ', labels)"
   ]
  },
  {
   "cell_type": "markdown",
   "id": "e068f64b",
   "metadata": {},
   "source": [
    "### 网络结构\n",
    "\n",
    "使用神经网络的框架"
   ]
  },
  {
   "cell_type": "code",
   "execution_count": 6,
   "id": "b018d82a",
   "metadata": {},
   "outputs": [],
   "source": [
    "# 定义网络结构\n",
    "class Net(nn.Module):\n",
    "    def __init__(self):\n",
    "        super(Net, self).__init__()\n",
    "        ## Conv2d(通道数, 生成的特征图数, 卷积窗口大小, 步长, padding几圈0)\n",
    "        ## MaxPool2d(窗口大小, 步长)\n",
    "        self.conv1 = nn.Sequential(nn.Conv2d(1, 32, 5, 1, 2), nn.ReLU(), nn.MaxPool2d(2, 2))\n",
    "        self.conv2 = nn.Sequential(nn.Conv2d(32, 64, 5, 1, 2), nn.ReLU(), nn.MaxPool2d(2, 2))\n",
    "        self.fc1 = nn.Sequential(nn.Linear(64*7*7, 1000), nn.Dropout(p=0.5), nn.ReLU())\n",
    "        self.fc2 = nn.Sequential(nn.Linear(1000, 10), nn.Softmax(dim=1))\n",
    "        \n",
    "    def forward(self, x):\n",
    "        # 卷积必须对四维的数据进行操作\n",
    "        # 本例中数据维度分别为[64, 1, 28, 28](样本数，通道数，长，宽)，可直接传入卷积中\n",
    "        z1 = self.conv1(x)\n",
    "        z2 = self.conv2(z1)\n",
    "        \n",
    "        # 全连接层则必须是二维数据\n",
    "        z2 = z2.view(z2.size()[0], -1)\n",
    "        z3 = self.fc1(z2)\n",
    "        output = self.fc2(z3)\n",
    "        \n",
    "        return output"
   ]
  },
  {
   "cell_type": "markdown",
   "id": "bae91ae7",
   "metadata": {},
   "source": [
    "### 模型参数"
   ]
  },
  {
   "cell_type": "code",
   "execution_count": 7,
   "id": "e5a3285c",
   "metadata": {},
   "outputs": [],
   "source": [
    "# 定义模型\n",
    "model = Net()\n",
    "\n",
    "# 损失函数\n",
    "crossentropy_loss = nn.CrossEntropyLoss()\n",
    "\n",
    "# 优化器\n",
    "optimizer = optim.Adam(model.parameters(), lr=0.001)"
   ]
  },
  {
   "cell_type": "markdown",
   "id": "22db152d",
   "metadata": {},
   "source": [
    "### 训练与测试的方法"
   ]
  },
  {
   "cell_type": "code",
   "execution_count": 8,
   "id": "370dd453",
   "metadata": {},
   "outputs": [],
   "source": [
    "# 训练的方法\n",
    "def train():\n",
    "    # 模型的训练状态\n",
    "    # 模型会Dropout\n",
    "    model.train()\n",
    "    for i, data in enumerate(train_loader):\n",
    "        # 获取一个批次的数据与标签\n",
    "        inputs, labels = data\n",
    "        # 数据传给模型，得到预测结果\n",
    "        out = model(inputs)\n",
    "        # 计算loss\n",
    "        loss = crossentropy_loss(out, labels) # 交叉熵不用one-hot编码\n",
    "        # 梯度清零\n",
    "        optimizer.zero_grad()\n",
    "        # 计算梯度\n",
    "        loss.backward()\n",
    "        # 修改权值\n",
    "        optimizer.step()"
   ]
  },
  {
   "cell_type": "code",
   "execution_count": 9,
   "id": "4355767f",
   "metadata": {},
   "outputs": [],
   "source": [
    "# 测试的方法\n",
    "def test():\n",
    "    # 模型的验证测试状态\n",
    "    # 模型不会Dropout\n",
    "    model.eval()\n",
    "    correct = 0\n",
    "    for i, data in enumerate(test_loader):\n",
    "        # 获取一个批次的数据与标签\n",
    "        inputs, labels = data\n",
    "        # 数据传给模型，得到预测结果\n",
    "        out = model(inputs)\n",
    "        # 获得最大值与其所在位置\n",
    "        _, predicted = torch.max(out, 1)\n",
    "        # 预测正确的个数\n",
    "        correct += (predicted == labels).sum()\n",
    "    \n",
    "    print(f'Test acc: {correct.item()/len(test_dataset)}')\n",
    "\n",
    "    correct = 0\n",
    "    for i, data in enumerate(train_loader):\n",
    "        # 获取一个批次的数据与标签\n",
    "        inputs, labels = data\n",
    "        # 数据传给模型，得到预测结果\n",
    "        out = model(inputs)\n",
    "        # 获得最大值与其所在位置\n",
    "        _, predicted = torch.max(out, 1)\n",
    "        # 预测正确的个数\n",
    "        correct += (predicted == labels).sum()\n",
    "    \n",
    "    print(f'Train acc: {correct.item()/len(train_dataset)}')"
   ]
  },
  {
   "cell_type": "code",
   "execution_count": 10,
   "id": "ae3d7b8f",
   "metadata": {},
   "outputs": [
    {
     "name": "stdout",
     "output_type": "stream",
     "text": [
      "epoch: 0\n",
      "Test acc: 0.9792\n",
      "Train acc: 0.9777\n",
      "epoch: 1\n",
      "Test acc: 0.9821\n",
      "Train acc: 0.9797166666666667\n",
      "epoch: 2\n",
      "Test acc: 0.9868\n",
      "Train acc: 0.9872\n",
      "epoch: 3\n",
      "Test acc: 0.983\n",
      "Train acc: 0.9861\n",
      "epoch: 4\n",
      "Test acc: 0.9895\n",
      "Train acc: 0.9892666666666666\n",
      "epoch: 5\n",
      "Test acc: 0.9871\n",
      "Train acc: 0.9892\n",
      "epoch: 6\n",
      "Test acc: 0.9889\n",
      "Train acc: 0.9910833333333333\n",
      "epoch: 7\n",
      "Test acc: 0.989\n",
      "Train acc: 0.9912\n",
      "epoch: 8\n",
      "Test acc: 0.9908\n",
      "Train acc: 0.9924\n",
      "epoch: 9\n",
      "Test acc: 0.9894\n",
      "Train acc: 0.9921666666666666\n",
      "epoch: 10\n",
      "Test acc: 0.9881\n",
      "Train acc: 0.9902333333333333\n",
      "epoch: 11\n",
      "Test acc: 0.9877\n",
      "Train acc: 0.98885\n",
      "epoch: 12\n",
      "Test acc: 0.9905\n",
      "Train acc: 0.9908\n",
      "epoch: 13\n",
      "Test acc: 0.9866\n",
      "Train acc: 0.9899166666666667\n",
      "epoch: 14\n",
      "Test acc: 0.9828\n",
      "Train acc: 0.9852166666666666\n",
      "epoch: 15\n",
      "Test acc: 0.9919\n",
      "Train acc: 0.9913166666666666\n",
      "epoch: 16\n",
      "Test acc: 0.9897\n",
      "Train acc: 0.9901833333333333\n",
      "epoch: 17\n",
      "Test acc: 0.9874\n",
      "Train acc: 0.9892333333333333\n",
      "epoch: 18\n",
      "Test acc: 0.9884\n",
      "Train acc: 0.9901\n",
      "epoch: 19\n",
      "Test acc: 0.9892\n",
      "Train acc: 0.9924666666666667\n"
     ]
    }
   ],
   "source": [
    "for epoch in range(20):\n",
    "    print(f'epoch: {epoch}')\n",
    "    train()\n",
    "    test()"
   ]
  },
  {
   "cell_type": "code",
   "execution_count": null,
   "id": "dcbeaad0",
   "metadata": {},
   "outputs": [],
   "source": []
  }
 ],
 "metadata": {
  "kernelspec": {
   "display_name": "deep_learn",
   "language": "python",
   "name": "deep_learn"
  },
  "language_info": {
   "codemirror_mode": {
    "name": "ipython",
    "version": 3
   },
   "file_extension": ".py",
   "mimetype": "text/x-python",
   "name": "python",
   "nbconvert_exporter": "python",
   "pygments_lexer": "ipython3",
   "version": "3.11.2"
  }
 },
 "nbformat": 4,
 "nbformat_minor": 5
}
