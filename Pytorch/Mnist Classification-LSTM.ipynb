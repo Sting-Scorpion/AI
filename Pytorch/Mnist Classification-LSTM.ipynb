{
 "cells": [
  {
   "cell_type": "markdown",
   "id": "4287498f",
   "metadata": {},
   "source": [
    "## 用Mnist数据集进行分类算法"
   ]
  },
  {
   "cell_type": "code",
   "execution_count": 1,
   "id": "c42070b8",
   "metadata": {},
   "outputs": [],
   "source": [
    "# 防止内核挂掉\n",
    "import os\n",
    "os.environ[\"KMP_DUPLICATE_LIB_OK\"]  =  \"TRUE\""
   ]
  },
  {
   "cell_type": "code",
   "execution_count": 2,
   "id": "7f48faf8",
   "metadata": {},
   "outputs": [],
   "source": [
    "import numpy as np\n",
    "from torch import nn, optim\n",
    "from torch.autograd import Variable\n",
    "from torchvision import datasets, transforms\n",
    "from torch.utils.data import DataLoader\n",
    "import torch"
   ]
  },
  {
   "cell_type": "markdown",
   "id": "ee20bf64",
   "metadata": {},
   "source": [
    "导入数据集"
   ]
  },
  {
   "cell_type": "code",
   "execution_count": 3,
   "id": "95fa37af",
   "metadata": {},
   "outputs": [],
   "source": [
    "# 训练集\n",
    "train_dataset = datasets.MNIST(root='./data/', \n",
    "                               train=True, \n",
    "                               transform=transforms.ToTensor(), \n",
    "                               download=True)\n",
    "\n",
    "# 测试集\n",
    "test_dataset = datasets.MNIST(root='./data/', \n",
    "                               train=False, \n",
    "                               transform=transforms.ToTensor(), \n",
    "                               download=True)"
   ]
  },
  {
   "cell_type": "markdown",
   "id": "457d1388",
   "metadata": {},
   "source": [
    "批次设置"
   ]
  },
  {
   "cell_type": "code",
   "execution_count": 4,
   "id": "7e513fa2",
   "metadata": {},
   "outputs": [],
   "source": [
    "# 批次大小\n",
    "batch_size = 64 # 每次传入数据的量\n",
    "\n",
    "# 装载训练集\n",
    "train_loader = DataLoader(dataset=train_dataset, \n",
    "                          batch_size=batch_size, \n",
    "                          shuffle=True) # 打乱数据集\n",
    "\n",
    "# 装载测试集\n",
    "test_loader = DataLoader(dataset=test_dataset, \n",
    "                          batch_size=batch_size, \n",
    "                          shuffle=True)"
   ]
  },
  {
   "cell_type": "markdown",
   "id": "412563d2",
   "metadata": {},
   "source": [
    "查看第一个loader中的数据"
   ]
  },
  {
   "cell_type": "code",
   "execution_count": 5,
   "id": "feb7fdd4",
   "metadata": {},
   "outputs": [
    {
     "name": "stdout",
     "output_type": "stream",
     "text": [
      "input shape:  torch.Size([64, 1, 28, 28])\n",
      "label shape:  torch.Size([64])\n",
      "labels:  tensor([7, 5, 4, 0, 5, 6, 0, 1, 4, 6, 6, 3, 1, 9, 3, 6, 4, 6, 3, 9, 1, 6, 9, 9,\n",
      "        7, 2, 5, 1, 4, 8, 7, 3, 3, 0, 8, 7, 8, 0, 8, 6, 2, 7, 5, 6, 8, 3, 2, 5,\n",
      "        3, 2, 2, 1, 1, 8, 7, 9, 7, 3, 7, 3, 7, 3, 1, 1])\n"
     ]
    }
   ],
   "source": [
    "inputs, labels = next(iter(train_loader))\n",
    "print('input shape: ', inputs.shape)\n",
    "print('label shape: ', labels.shape)\n",
    "print('labels: ', labels)"
   ]
  },
  {
   "cell_type": "markdown",
   "id": "e068f64b",
   "metadata": {},
   "source": [
    "### 网络结构\n",
    "\n",
    "使用神经网络的框架"
   ]
  },
  {
   "cell_type": "code",
   "execution_count": 6,
   "id": "b018d82a",
   "metadata": {},
   "outputs": [],
   "source": [
    "class LSTM_Net(nn.Module):\n",
    "    # 定义网络结构\n",
    "    def __init__(self):\n",
    "        super(LSTM_Net, self).__init__()\n",
    "        self.lstm = nn.LSTM(input_size=28, # 输入特征的大小\n",
    "                            hidden_size=64, # LSTM模块的数量\n",
    "                            num_layers=1, # 隐藏层层数\n",
    "                            batch_first=True) # 数据格式，设置input与output为(batch, seq_len, feature)\n",
    "        # 全连接层\n",
    "        self.out = nn.Linear(in_features=64, out_features=10)\n",
    "        # 激活函数\n",
    "        self.softmax = nn.Softmax(dim=1)\n",
    "       \n",
    "    # 定义网络计算\n",
    "    def forward(self, x):\n",
    "        # (batch, seq_len, feature)\n",
    "        x = x.view(-1, 28, 28)\n",
    "        ## output: [batch, seq_len, hidden_size] 包含每个序列的输出结果\n",
    "        ## h_n, c_n: [num_layers, batch, hidden_size] 只包含最后一个序列的输出\n",
    "        output, (h_n, c_n) = self.lstm(x)\n",
    "        output_in_last_timestep = h_n[-1, :, :]\n",
    "        \n",
    "        z = self.out(output_in_last_timestep)\n",
    "        output = self.softmax(z)\n",
    "        \n",
    "        return output"
   ]
  },
  {
   "cell_type": "markdown",
   "id": "bae91ae7",
   "metadata": {},
   "source": [
    "### 模型参数"
   ]
  },
  {
   "cell_type": "code",
   "execution_count": 7,
   "id": "e5a3285c",
   "metadata": {},
   "outputs": [],
   "source": [
    "# 定义模型\n",
    "model = LSTM_Net()\n",
    "\n",
    "# 损失函数\n",
    "crossentropy_loss = nn.CrossEntropyLoss()\n",
    "\n",
    "# 优化器\n",
    "optimizer = optim.Adam(model.parameters(), lr=0.001)"
   ]
  },
  {
   "cell_type": "markdown",
   "id": "22db152d",
   "metadata": {},
   "source": [
    "### 训练与测试的方法"
   ]
  },
  {
   "cell_type": "code",
   "execution_count": 8,
   "id": "370dd453",
   "metadata": {},
   "outputs": [],
   "source": [
    "# 训练的方法\n",
    "def train():\n",
    "    # 模型的训练状态\n",
    "    # 模型会Dropout\n",
    "    model.train()\n",
    "    for i, data in enumerate(train_loader):\n",
    "        # 获取一个批次的数据与标签\n",
    "        inputs, labels = data\n",
    "        # 数据传给模型，得到预测结果\n",
    "        out = model(inputs)\n",
    "        # 计算loss\n",
    "        loss = crossentropy_loss(out, labels) # 交叉熵不用one-hot编码\n",
    "        # 梯度清零\n",
    "        optimizer.zero_grad()\n",
    "        # 计算梯度\n",
    "        loss.backward()\n",
    "        # 修改权值\n",
    "        optimizer.step()"
   ]
  },
  {
   "cell_type": "code",
   "execution_count": 9,
   "id": "4355767f",
   "metadata": {},
   "outputs": [],
   "source": [
    "# 测试的方法\n",
    "def test():\n",
    "    # 模型的验证测试状态\n",
    "    # 模型不会Dropout\n",
    "    model.eval()\n",
    "    correct = 0\n",
    "    for i, data in enumerate(test_loader):\n",
    "        # 获取一个批次的数据与标签\n",
    "        inputs, labels = data\n",
    "        # 数据传给模型，得到预测结果\n",
    "        out = model(inputs)\n",
    "        # 获得最大值与其所在位置\n",
    "        _, predicted = torch.max(out, 1)\n",
    "        # 预测正确的个数\n",
    "        correct += (predicted == labels).sum()\n",
    "    \n",
    "    print(f'Test acc: {correct.item()/len(test_dataset)}')\n",
    "\n",
    "    correct = 0\n",
    "    for i, data in enumerate(train_loader):\n",
    "        # 获取一个批次的数据与标签\n",
    "        inputs, labels = data\n",
    "        # 数据传给模型，得到预测结果\n",
    "        out = model(inputs)\n",
    "        # 获得最大值与其所在位置\n",
    "        _, predicted = torch.max(out, 1)\n",
    "        # 预测正确的个数\n",
    "        correct += (predicted == labels).sum()\n",
    "    \n",
    "    print(f'Train acc: {correct.item()/len(train_dataset)}')"
   ]
  },
  {
   "cell_type": "code",
   "execution_count": 10,
   "id": "ae3d7b8f",
   "metadata": {},
   "outputs": [
    {
     "name": "stdout",
     "output_type": "stream",
     "text": [
      "epoch: 0\n",
      "Test acc: 0.8399\n",
      "Train acc: 0.8345833333333333\n",
      "epoch: 1\n",
      "Test acc: 0.8679\n",
      "Train acc: 0.86665\n",
      "epoch: 2\n",
      "Test acc: 0.9525\n",
      "Train acc: 0.9514166666666667\n",
      "epoch: 3\n",
      "Test acc: 0.9603\n",
      "Train acc: 0.9625833333333333\n",
      "epoch: 4\n",
      "Test acc: 0.9633\n",
      "Train acc: 0.9636666666666667\n",
      "epoch: 5\n",
      "Test acc: 0.9673\n",
      "Train acc: 0.9681833333333333\n",
      "epoch: 6\n",
      "Test acc: 0.9652\n",
      "Train acc: 0.9691666666666666\n",
      "epoch: 7\n",
      "Test acc: 0.953\n",
      "Train acc: 0.9563333333333334\n",
      "epoch: 8\n",
      "Test acc: 0.9688\n",
      "Train acc: 0.9729\n",
      "epoch: 9\n",
      "Test acc: 0.967\n",
      "Train acc: 0.9692333333333333\n"
     ]
    }
   ],
   "source": [
    "for epoch in range(10):\n",
    "    print(f'epoch: {epoch}')\n",
    "    train()\n",
    "    test()"
   ]
  },
  {
   "cell_type": "code",
   "execution_count": null,
   "id": "dcbeaad0",
   "metadata": {},
   "outputs": [],
   "source": []
  }
 ],
 "metadata": {
  "kernelspec": {
   "display_name": "deep_learn",
   "language": "python",
   "name": "deep_learn"
  },
  "language_info": {
   "codemirror_mode": {
    "name": "ipython",
    "version": 3
   },
   "file_extension": ".py",
   "mimetype": "text/x-python",
   "name": "python",
   "nbconvert_exporter": "python",
   "pygments_lexer": "ipython3",
   "version": "3.11.2"
  }
 },
 "nbformat": 4,
 "nbformat_minor": 5
}
