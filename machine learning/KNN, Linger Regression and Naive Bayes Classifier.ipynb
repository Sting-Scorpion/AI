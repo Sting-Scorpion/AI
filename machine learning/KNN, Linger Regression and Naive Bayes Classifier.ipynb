{
 "cells": [
  {
   "cell_type": "markdown",
   "metadata": {},
   "source": [
    "# Introduction\n",
    "\n",
    "This worksheet covers the three supervised learning algorithms we looked at in week 14: k-nearest neighbours, linear regression, and the naive Bayes classifier. Similar to last week, you will do some work implementing your own versions of these algorithms, to ensure that you understand the details of them. You will also compare them with the implementations in scikit-learn to test your implementations."
   ]
  },
  {
   "cell_type": "markdown",
   "metadata": {},
   "source": [
    "# Preliminaries\n",
    "Import key packages: NumPy, matplotlib, and any others that you prefer to work with. In general, when writing code, you will put all your import statements at the top. However, for these worksheets we will import as we go along."
   ]
  },
  {
   "cell_type": "code",
   "execution_count": 1,
   "metadata": {},
   "outputs": [],
   "source": [
    "#TODO: import NumPy and matplotlib here\n",
    "import numpy as np\n",
    "import matplotlib.pyplot as plt"
   ]
  },
  {
   "cell_type": "markdown",
   "metadata": {},
   "source": [
    "# Question 1: k-nearest neighbours classification\n",
    "In this question we will use the k-nearest neighbours algorithm to make predictions on the breast cancer Wisconsin dataset. This is a classification problem where the aim is to classify instances as either being malignant or benign based on the following 10 features:\n",
    "1. radius (mean of distances from center to points on the perimeter)\n",
    "2. texture (standard deviation of gray-scale values)\n",
    "3. perimeter\n",
    "4. area\n",
    "5. smoothness (local variation in radius lengths)\n",
    "6. compactness (perimeter squared/ area −1)\n",
    "7. concavity (severity of concave portions of the contour)\n",
    "8. concave points (number of concave portions of the contour)\n",
    "9. symmetry\n",
    "10. fractal dimension (‘coastline approximation’ −1)\n",
    "\n",
    "In this question you will:\n",
    "    (a) download the dataset from sklearn and store the data and targets in suitable variables, \n",
    "    (b) separate your data into a training and test split, \n",
    "    (c) (Optional) write your own function to implement k-nearest neighbours, \n",
    "    (d) (Optional) check your implementation with that of sklearn. \n",
    "    (e) select the most appropriate value of $k$ using cross-validation."
   ]
  },
  {
   "cell_type": "markdown",
   "metadata": {},
   "source": [
    "## Part (a)\n",
    "Import the package `datasets` from `sklearn` and then load the breast cancer dataset (function is `load_breast_cancer()`). Save the data into a variable `X` and the targets into a variable `Y`. \n",
    "Take a look at the data in `X`. How many datapoints are there? How many features does each datapoint have? (Hint: use `np.shape`).\n",
    "Take a look at the targets. Is this suitable for a classification algorithm or a regression algorithm?"
   ]
  },
  {
   "cell_type": "code",
   "execution_count": 2,
   "metadata": {},
   "outputs": [],
   "source": [
    "# Import suitable packages, load the dataset, and save data and targets into variables X and Y\n",
    "# import packages\n",
    "##TODO##\n",
    "from sklearn import datasets\n",
    "\n",
    "# load dataset and save data and targets into X and Y\n",
    "##TODO##\n",
    "dataset = datasets.load_breast_cancer()\n",
    "X = dataset.data\n",
    "Y = dataset.target"
   ]
  },
  {
   "cell_type": "markdown",
   "metadata": {},
   "source": [
    "## Part (b)\n",
    "\n",
    "Use the function `train_test_split` from `sklearn.model_selection` to split your data into a training set and a held-out test set. Use a test set that is 0.2 of the original dataset. Set the parameter `random_state` to 10 to help with replication."
   ]
  },
  {
   "cell_type": "code",
   "execution_count": 3,
   "metadata": {},
   "outputs": [],
   "source": [
    "# Import the package train_test_split from sklearn.model_selection.\n",
    "# Split the dataset into Xtr, Xtest, Ytr, Ytest. Xtest and Ytest will form your held-out\n",
    "# test set. You will later split Xtr and Ytr into training and validation sets.\n",
    "##TODO## \n",
    "from sklearn.model_selection import train_test_split\n",
    "Xtr, Xtest, Ytr, Ytest = train_test_split(X, Y, test_size = 0.2, random_state = 10)"
   ]
  },
  {
   "cell_type": "markdown",
   "metadata": {},
   "source": [
    "## (Optional) Part (c) \n",
    "Recall from the lecture that the k-nearest neighbours algorithm runs as follows:\n",
    "\n",
    "Training step: Simply store the dataset\n",
    "\n",
    "Prediction step: Given a datapoint $\\vec{x}$:\n",
    " - **Find** the k datapoints $(\\vec{x}_i, y_i)$ where the distance from $\\vec{x}$ to $\\vec{x}_i$ is smallest\n",
    " - **Return** the majority class from the $y_i$\n",
    "   \n",
    " \n",
    "What, if anything, do you need to do for the training step?\n",
    "\n",
    "Write function(s) to implement the k-nearest neighbours prediction step. You may wish to break the procedure down into two functions `predict_datapoint` that makes a prediction for one datapoint and `predict_data` that loops over the whole dataset.\n",
    "\n",
    "To select the majority class from the nearest neighbours, you can use the function `scipy.stats.mode()`\n"
   ]
  },
  {
   "cell_type": "code",
   "execution_count": 4,
   "metadata": {},
   "outputs": [],
   "source": [
    "from scipy.stats import mode\n",
    "import scipy\n",
    "# Write function(s) to implement the prediction step in k-nearest neighbours. \n",
    "# You can use the suggested structure below if desired.\n",
    "\n",
    "\n",
    "# predict_datapoint takes 4 arguments. pt (type: numpy array) is the datapoint we are making a prediction about, \n",
    "# Xtrain and Ytrain (numpy arrays) are training data and targets, k (int) is the number of neighbours.\n",
    "# Returns an integer which is the predicted class for pt\n",
    "def predict_datapoint(pt, Xtrain, Ytrain, k):\n",
    "    # For each datapoint in Xtrain, calculate the distance to pt and store\n",
    "    ##TODO##\n",
    "    # dist_list = []\n",
    "    # for i in range(Xtrain.shape[0]):\n",
    "    #     dist = 0\n",
    "    #     for j in range(Xtrain.shape[1]):\n",
    "    #         dist = dist + (pt[j] - Xtrain[i][j]) ** 2\n",
    "            \n",
    "    #     dist = np.sqrt(dist)\n",
    "    #     dist_list.append(dist)\n",
    "    dist_list = np.linalg.norm(Xtrain - pt, axis = 1)\n",
    "        \n",
    "    # Sort the list of distances (hint: use np.argsort)\n",
    "    ##TODO##\n",
    "    dist_order = np.argsort(dist_list)\n",
    "    \n",
    "    # obtain the classes (in Ytrain) of the datapoints with the smallest distance to pt\n",
    "    ##TODO##\n",
    "    # k_label = []\n",
    "    # for i in range(k):\n",
    "    #     k_label.append(Ytrain[dist_order[i]])\n",
    "    k_label = Ytrain[dist_order[:k]]\n",
    "    \n",
    "    # return the mode of the classes\n",
    "    ##TODO##\n",
    "    return scipy.stats.mode(k_label)[0][0]\n",
    "\n",
    "# predict_data takes 4 arguments: the test data Xtst (numpy array), the training data Xtrain (numpy array),\n",
    "# the training targets Ytrain (numpy array), and the number of neighbours k (int, default = 3). \n",
    "# Returns: predictions (array of int) for each point in Xtst\n",
    "def predict_data(Xtst, Xtrain, Ytrain, k=3):\n",
    "    #Loop over the datapoints in Xtst and store the prediction for that datapoint\n",
    "    ##TODO##\n",
    "    predict_list = []\n",
    "    for pt in Xtst:\n",
    "        predict_list.append(predict_datapoint(pt, Xtrain, Ytrain, k))\n",
    "    # Return the predictions\n",
    "    ##TODO##\n",
    "    return predict_list\n",
    "\n",
    "# Predict values for the TRAINING data (we will not look at the test set yet)\n",
    "##TODO##\n",
    "trainValue = predict_data(Xtr, Xtr, Ytr, k = 3)"
   ]
  },
  {
   "cell_type": "markdown",
   "metadata": {},
   "source": [
    "## Part (d)\n",
    "Now we can compare your implementation with the sklearn implementation (you should get the same results). Firstly import the classfifier `KNeighborsClassifier` from `sklearn.neighbors`. Instantiate the classifier with the same number of neighbours that you used previously. Fit the model and make a prediction on the test set."
   ]
  },
  {
   "cell_type": "code",
   "execution_count": 5,
   "metadata": {},
   "outputs": [],
   "source": [
    "# Import KNeighborClassifier\n",
    "##TODO##\n",
    "from sklearn.neighbors import KNeighborsClassifier\n",
    "\n",
    "# Instantiate the classifier with 3 neighbors\n",
    "##TODO##\n",
    "knn = KNeighborsClassifier(n_neighbors=3)\n",
    "\n",
    "#Fit the classifier on the training data\n",
    "##TODO##\n",
    "knn.fit(Xtr, Ytr)\n",
    "\n",
    "#Make a prediction on the training data\n",
    "##TODO##\n",
    "prediction = knn.predict(Xtr)"
   ]
  },
  {
   "cell_type": "markdown",
   "metadata": {},
   "source": [
    "Check whether your predictions are the same as the predictions from `KNeighborsClassifier`."
   ]
  },
  {
   "cell_type": "code",
   "execution_count": 6,
   "metadata": {},
   "outputs": [
    {
     "data": {
      "text/plain": [
       "True"
      ]
     },
     "execution_count": 6,
     "metadata": {},
     "output_type": "execute_result"
    }
   ],
   "source": [
    "##TODO##\n",
    "(prediction == trainValue).all()"
   ]
  },
  {
   "cell_type": "markdown",
   "metadata": {},
   "source": [
    "Use the built in metrics in sklearn to calculate the accuracy of your classifier on the TRAINING set."
   ]
  },
  {
   "cell_type": "code",
   "execution_count": 7,
   "metadata": {},
   "outputs": [
    {
     "data": {
      "text/plain": [
       "0.9560439560439561"
      ]
     },
     "execution_count": 7,
     "metadata": {},
     "output_type": "execute_result"
    }
   ],
   "source": [
    "##TODO## \n",
    "knn.score(Xtr, Ytr)"
   ]
  },
  {
   "cell_type": "code",
   "execution_count": 8,
   "metadata": {},
   "outputs": [
    {
     "data": {
      "text/plain": [
       "0.9560439560439561"
      ]
     },
     "execution_count": 8,
     "metadata": {},
     "output_type": "execute_result"
    }
   ],
   "source": [
    "from sklearn.metrics import confusion_matrix\n",
    "tn, fp, fn, tp = confusion_matrix(prediction, Ytr).ravel()\n",
    "(tp + tn) / (tp + tn + fp + fn)"
   ]
  },
  {
   "cell_type": "code",
   "execution_count": 9,
   "metadata": {},
   "outputs": [
    {
     "name": "stdout",
     "output_type": "stream",
     "text": [
      "0.9560439560439561\n"
     ]
    }
   ],
   "source": [
    "from sklearn.metrics import accuracy_score\n",
    "accuracytr=accuracy_score(Ytr,prediction)\n",
    "print(accuracytr)"
   ]
  },
  {
   "cell_type": "markdown",
   "metadata": {},
   "source": [
    "## Part(e) Using cross-validation for model selection\n",
    "k-nearest neighbours has the parameter $k$, and we need to decide which is the best value of $k$ to use. Last week we talked about using cross-validation for model selection.\n",
    "\n",
    "We will use cross-validation on our training set to select the best value of $k$, in a range from 1 to 30.\n",
    "\n",
    "NB: use sklearn's version of k-NN rather than yours, since unless you have optimised yours it is probably too slow.\n",
    "\n",
    "Since we are using cross-validation for model selection we will cross-validate on the training set only.\n",
    "\n",
    "Procedure:\n",
    "        \n",
    " 1. Import `KFold` from `sklearn.model_selection`  \n",
    " 1. Instantiate `KFold` with 5 splits. Set the parameter `random_state` to help you reproduce your results if needed.\n",
    " 1. Set a variable `max_k` to 30  \n",
    " 1. Inititalise two variables to store the training accuracies and validation accuracies (these need to store max_k\\*5 accuracies)  \n",
    " 1. Loop over the values of k:  \n",
    "    1. Instantiate a k-nn classifier (Use the sklearn classifier) with the current value of k  \n",
    "    1. Loop over the cross-validation splits:  \n",
    "       1. fit the model on the current split of data  \n",
    "       1. make predictions  \n",
    "       1. calculate training and validation accuracy and store  \n",
    " 6. Calculate the mean training and validation accuracies across splits for each $k$\n",
    "\n",
    "Plot the mean training and validation accuracies. Which value of $k$ will you use? Why?\n",
    "    "
   ]
  },
  {
   "cell_type": "code",
   "execution_count": 10,
   "metadata": {},
   "outputs": [],
   "source": [
    "# Use cross-validation to select the value of k\n",
    "# You can use the structure below if desired\n",
    "\n",
    "# Import KFold from sklearn.model_selection\n",
    "##TODO##\n",
    "from sklearn.model_selection import KFold\n",
    "\n",
    "# Instantiate KFold with 5 splits. \n",
    "# Set the parameter random_state to help you reproduce your results if needed.\n",
    "##TODO##\n",
    "cv = KFold(n_splits=5,random_state=10, shuffle=True)\n",
    "\n",
    "# Set a variable max_k to 30 \n",
    "##TODO##\n",
    "max_k = 30\n",
    "\n",
    "# Inititalise two variables to store the \n",
    "# training accuracies and validation accuracies \n",
    "# (these need to store max_k*5 accuracies) \n",
    "##TODO##\n",
    "trainaccuracy = [[] for _ in range(max_k)]\n",
    "valaccuracy = [[] for _ in range(max_k)]\n",
    "\n",
    "# Loop over the values of k: \n",
    "for k in range(max_k):\n",
    "    \n",
    "    # Instantiate a k-nn classifier (Use the sklearn classifier)\n",
    "    # with the current value of k \n",
    "    ##TODO##\n",
    "    knn = KNeighborsClassifier(n_neighbors=k+1)\n",
    "    \n",
    "    # Loop over the cross-validation splits: \n",
    "    ##TODO##\n",
    "    for train_index, val_index in cv.split(Xtr):\n",
    "        Xtrain, Xval, Ytrain, Yval = Xtr[train_index],\\\n",
    "            Xtr[val_index], Ytr[train_index], Ytr[val_index]\n",
    "    \n",
    "        # fit the model on the current split of data \n",
    "        ##TODO##\n",
    "        model=knn.fit(Xtrain, Ytrain)\n",
    "        \n",
    "        # make predictions \n",
    "        ##TODO##\n",
    "        Ypredtrain=model.predict(Xtrain)\n",
    "        Ypredval=model.predict(Xval)\n",
    "        \n",
    "        # calculate training and validation accuracy and store \n",
    "        ##TODO##\n",
    "        trainaccuracy[k].append(accuracy_score(Ytrain,Ypredtrain))\n",
    "        valaccuracy[k].append(accuracy_score(Yval,Ypredval))\n",
    "        \n",
    "# Calculate the mean training and validation accuracies across splits for each 𝑘\n",
    "##TODO##\n",
    "mean_train_acc = np.mean(trainaccuracy, axis=1)\n",
    "mean_val_acc = np.mean(valaccuracy, axis=1)"
   ]
  },
  {
   "cell_type": "code",
   "execution_count": 11,
   "metadata": {},
   "outputs": [
    {
     "data": {
      "text/plain": [
       "Text(0, 0.5, 'Accuracy')"
      ]
     },
     "execution_count": 11,
     "metadata": {},
     "output_type": "execute_result"
    },
    {
     "data": {
      "image/png": "[encoded data removed]",
      "text/plain": [
       "<Figure size 432x288 with 1 Axes>"
      ]
     },
     "metadata": {
      "needs_background": "light"
     },
     "output_type": "display_data"
    }
   ],
   "source": [
    "# Plot the mean training and validation accuracies against each value of k. Which value of 𝑘 will you use? Why?\n",
    "##TODO##\n",
    "x = range(1, max_k+1)\n",
    "plt.plot(x, mean_train_acc, label='Training Accuracy')\n",
    "plt.plot(x, mean_val_acc, label='Validation Accuracy')\n",
    "plt.legend()\n",
    "plt.xlabel('k')\n",
    "plt.ylabel('Accuracy')"
   ]
  },
  {
   "cell_type": "markdown",
   "metadata": {},
   "source": [
    "# The naive Bayes classifier\n",
    "\n",
    "Recall from the lecture notes that the naive Bayes classifier works as follows. We are trying to approximate an unknown function $$f:V \\rightarrow \\mathcal{O}$$\n",
    "where $V$ is our feature space and our output space $\\mathcal{O} = \\{c_1, c_2, ... c_K\\}$ is a finite set of classes.\n",
    "\n",
    "The naive Bayes classifier does this by building a model that assigns the class label $\\hat{y} = c_k$ as follows:\n",
    "$$\n",
    "\\hat{y} = \\text{argmax}_k p(c_k)\\prod_i p(x_i| c_k)\n",
    "$$\n",
    "i.e., the $k$ that maximises this quantity.\n",
    "\n",
    "In practice, multiplying all the $p(x_i| c_k)$ together is going to give some very small values. Therefore, we can take the log to make it easier to compute:\n",
    "\\begin{align}\n",
    "\\hat{y} &= \\text{argmax}_k p(c_k)\\prod_i p(x_i| c_k)= \\text{argmax}_k log(p(c_k)\\prod_i p(x_i| c_k))\\\\\n",
    "&=\\text{argmax}_k log(p(c_k)) + \\sum_i log(p(x_i|c_k))\n",
    "\\end{align}\n",
    "\n",
    "If we choose that $p(x_i|c_k)$ is given by a normal distribution with mean $\\mu_k$ and variance $\\sigma_k^2$, then we obtain the following expression:\n",
    "\n",
    "\\begin{align}\n",
    "\\hat{y} &=\\text{argmax}_k \\log(p(c_k)) + \\sum_i \\log(p(x_i|c_k))\\\\\n",
    "&= \\text{argmax}_k \\log(p(c_k)) + \\sum_i \\log\\left(\\frac{1}{\\sigma_k\\sqrt{2\\pi}} exp\\left(\\frac{-(x-\\mu_k)^2}{2\\sigma_k}\\right)\\right)\\\\\n",
    "&= \\text{argmax}_k \\log(p(c_k)) - \\sum_i \\log\\left(\\sigma_k\\sqrt{2\\pi}\\right) - \\sum_i\\left(\\frac{(x-\\mu_k)^2}{2\\sigma_k}\\right) \\quad \\text{ log-likelihood}\n",
    "\\end{align}\n",
    "\n",
    "Expressing the values in terms of these sums means that they do not get so small, and it is less likely that there will be errors at the machine precision level.\n",
    "\n",
    "\n",
    "How do we implement this in practice? We assume that each probability $p(x_i| c_k)$ is given by some distribution, and then given a datapoint $\\vec{x}$, we plug the value into the equation for the distribution.\n",
    "\n",
    "In this question you will: \n",
    "    (a) (Optional) implement your own version of the Gaussian naive Bayes classifier, \n",
    "    (b) (Optional) check your classifier against the implementation in sci-kit learn, \n",
    "    (c) compare the accuracy of the scikit-learn naive Bayes classifier with the accuracy of the k-nearest neighbours classifier, and \n",
    "    (d) run cross-validation to verify whether the kNN classfier or the Gaussian naive Bayes classifier performs better on this dataset.\n",
    "\n",
    "## (Optional) Part (a) Implementing Gaussian naive Bayes\n",
    "For this question we will make the assumption that each feature is described by a normal (also called Gaussian) distribution. The procedure is as follows:\n",
    "1. Divide the training data by class\n",
    "2. Calculate mean and standard deviation per class and per feature\n",
    "4. For each datapoint in the validation set, calculate the log-likelihood for each class and for each feature (Hint: use the function `scipy.stats.norm.logpdf`)\n",
    "5. Combine these values together with the probability of the class according to the log-likelihood equation above\n",
    "6. Choose the class with the highest value\n"
   ]
  },
  {
   "cell_type": "code",
   "execution_count": 12,
   "metadata": {},
   "outputs": [],
   "source": [
    "##TODO##\n",
    "# Write your own implementation of naive Bayes applied to the breast cancer dataset.\n",
    "\n",
    "# If you wish you can follow the structure below\n",
    "from scipy.stats import norm\n",
    "\n",
    "# Split the training data Xtr into training and validation sets with an 80:20 split. \n",
    "# Set the random state to help with reproducibility\n",
    "##TODO##\n",
    "Xtrain, Xval, Ytrain, Yval = train_test_split(Xtr, Ytr, test_size = 0.2, random_state=10)\n",
    "\n",
    "#Separate the training set into classes, so you have one set of data for each class\n",
    "##TODO##\n",
    "data0 = Xtrain[Ytrain==0]\n",
    "data1 = Xtrain[Ytrain==1]\n",
    "\n",
    "# Calculate the means and standard deviations for each class, for each feature. \n",
    "# There are 30 features in the dataset, so you should have a 30-dimensional \n",
    "# array of means for each class and a 30-dimensional array of standard deviations\n",
    "# for each class. Remember that you can take the average across rows or columns of \n",
    "# a matrix by specifying axis = 1 or axis = 0\n",
    "##TODO##\n",
    "means0 = np.mean(data0, axis=0)\n",
    "stds0 = np.std(data0, axis=0)\n",
    "means1 = np.mean(data1, axis=0)\n",
    "stds1 = np.std(data1, axis=0)\n",
    "\n",
    "# Calculate the prior probability p(c_i) for each class\n",
    "##TODO##\n",
    "prob_c0 = len(data0)/len(Xtrain)\n",
    "prob_c1 = len(data1)/len(Xtrain)\n",
    "\n",
    "# Calculate the log-likelihood of each class for each datapoint in the validation set\n",
    "# Hint: you can use the function scipy.stats.norm.logpdf to help with this\n",
    "##TODO##\n",
    "ll_0 = np.log(prob_c0) + np.sum(norm.logpdf(Xval, loc=means0, scale=stds0), axis=1)\n",
    "ll_1 = np.log(prob_c1) + np.sum(norm.logpdf(Xval, loc=means1, scale=stds1), axis=1)\n",
    "\n",
    "# Your predicted class is 0 if class 0 has the highest log-likelihood, and 1 if class 1 \n",
    "# has the highest log-likelihood\n",
    "##TODO##\n",
    "classes = ll_0 < ll_1"
   ]
  },
  {
   "cell_type": "code",
   "execution_count": 13,
   "metadata": {},
   "outputs": [
    {
     "data": {
      "text/plain": [
       "array([ 2.01798525e+01, -1.14502230e+02, -5.46978005e+01,  2.11726497e+01,\n",
       "        1.23277131e+01, -1.45747321e+02,  1.62973700e+01, -2.22159134e+01,\n",
       "       -1.27908824e+02,  1.50508984e+01, -1.10328531e+02,  2.10060789e+01,\n",
       "       -4.36588797e+01, -3.46877226e+01, -6.32372720e+01,  2.00585606e+01,\n",
       "        2.22106217e+01, -1.75657906e+02,  2.21669304e+01, -2.12179511e+02,\n",
       "       -1.66504924e+02,  1.87285828e+01, -1.01418912e+01,  1.81652329e+01,\n",
       "        1.30321280e+01, -1.30223786e+02, -3.45418581e+02,  1.76106094e+01,\n",
       "       -7.50842033e+01,  2.09855093e+01,  5.33092522e+00, -4.51603853e+01,\n",
       "        1.04923080e+01,  1.78969109e+01, -4.78879275e+01,  1.59438526e+01,\n",
       "        2.26183407e+01,  1.99882785e+01,  1.53627433e+01, -1.37566300e+01,\n",
       "        1.85829690e+01,  6.87768916e-01,  1.04238991e+01, -2.36721121e+01,\n",
       "        1.52883908e+01,  1.46910692e+01, -4.53409563e+02, -1.63636899e+01,\n",
       "        2.40055179e+01, -3.93086228e+00, -1.15363805e+02, -5.15356400e+01,\n",
       "        9.19280764e+00,  1.54255610e+01,  2.22989332e+01, -1.80599136e+02,\n",
       "        1.44168691e+01,  2.07651366e+01, -4.71120991e+01,  6.20227850e+00,\n",
       "        2.16730590e+01,  1.27244588e+01, -8.40427300e+02, -7.82185990e+01,\n",
       "        2.30473175e+01, -2.28822614e+02,  1.82846917e+01,  1.58362515e+01,\n",
       "       -3.04828807e+02, -4.32007153e+01, -2.42587748e+02, -1.70284421e+02,\n",
       "        1.70838789e+01,  7.51693250e+00,  1.54993537e+01, -9.45958384e+01,\n",
       "       -2.00788170e+02,  2.01124777e+01,  9.37013875e+00,  1.27506501e+01,\n",
       "        8.26524082e+00,  1.66883334e+01,  8.78837497e+00, -1.03637323e+02,\n",
       "        1.40573826e+01,  1.73654151e+01, -2.87994479e+01,  1.47216233e+01,\n",
       "        5.33270971e+00,  2.21737024e+01,  2.02023544e+01])"
      ]
     },
     "execution_count": 13,
     "metadata": {},
     "output_type": "execute_result"
    }
   ],
   "source": [
    "ll_1"
   ]
  },
  {
   "cell_type": "markdown",
   "metadata": {},
   "source": [
    "## (Optional) Part (b) Checking results\n",
    "We now compare our results with the sklearn implementation. "
   ]
  },
  {
   "cell_type": "code",
   "execution_count": 14,
   "metadata": {},
   "outputs": [],
   "source": [
    "##Import the classifier GaussianNB from sklearn.naive_bayes\n",
    "from sklearn.naive_bayes import GaussianNB\n",
    "# Instantiate the classifier (use the parameter var_smoothing=0.0),\n",
    "# fit, and predict the classes\n",
    "##TODO##\n",
    "gnb = GaussianNB(var_smoothing=0.)\n",
    "gnb.fit(Xtrain, Ytrain)\n",
    "\n",
    "val_preds = gnb.predict(Xval)"
   ]
  },
  {
   "cell_type": "code",
   "execution_count": 15,
   "metadata": {},
   "outputs": [
    {
     "data": {
      "text/plain": [
       "array([[-3.83850803e+01,  0.00000000e+00],\n",
       "       [ 0.00000000e+00, -9.34120403e+01],\n",
       "       [ 0.00000000e+00, -5.81904741e+01],\n",
       "       [-3.36775679e+01, -3.55271368e-15],\n",
       "       [-1.83173545e+01, -1.10885310e-08],\n",
       "       [ 0.00000000e+00, -1.48899223e+02],\n",
       "       [-2.78343197e+01, -8.17124146e-13],\n",
       "       [-1.18199530e-08, -1.82534768e+01],\n",
       "       [ 0.00000000e+00, -1.29920217e+02],\n",
       "       [-4.63710048e+01,  0.00000000e+00],\n",
       "       [ 0.00000000e+00, -1.15464500e+02],\n",
       "       [-2.76838475e+01, -9.48574552e-13],\n",
       "       [-1.93587857e+01, -3.91369070e-09],\n",
       "       [ 0.00000000e+00, -3.99088156e+01],\n",
       "       [ 0.00000000e+00, -5.48246417e+01],\n",
       "       [-2.87313445e+01, -3.33955086e-13],\n",
       "       [-3.97879755e+01,  0.00000000e+00],\n",
       "       [ 0.00000000e+00, -1.79715116e+02],\n",
       "       [-3.16004463e+01, -1.77635684e-14],\n",
       "       [ 0.00000000e+00, -2.18532893e+02],\n",
       "       [ 0.00000000e+00, -1.74265248e+02],\n",
       "       [-4.16435038e+01,  0.00000000e+00],\n",
       "       [-4.52483082e+00, -1.08956907e-02],\n",
       "       [-3.79703666e+01,  0.00000000e+00],\n",
       "       [-2.47021562e+01, -1.87068139e-11],\n",
       "       [ 0.00000000e+00, -1.36061565e+02],\n",
       "       [ 0.00000000e+00, -3.21344889e+02],\n",
       "       [-4.37454487e+01,  0.00000000e+00],\n",
       "       [ 0.00000000e+00, -7.01737798e+01],\n",
       "       [-3.59396520e+01,  0.00000000e+00],\n",
       "       [-9.32624056e+00, -8.90603767e-05],\n",
       "       [ 0.00000000e+00, -5.16854709e+01],\n",
       "       [-4.04583281e+01,  0.00000000e+00],\n",
       "       [-1.98557562e+01, -2.38097542e-09],\n",
       "       [ 0.00000000e+00, -5.49516414e+01],\n",
       "       [-2.18767089e+01, -3.15548476e-10],\n",
       "       [-3.27963292e+01, -7.10542736e-15],\n",
       "       [-2.36057871e+01, -5.59943203e-11],\n",
       "       [-2.25881202e+01, -1.54917856e-10],\n",
       "       [-3.22392556e+01, -1.06581410e-14],\n",
       "       [-3.78164986e+01,  0.00000000e+00],\n",
       "       [-3.51911189e+01, -4.44089210e-16],\n",
       "       [-4.39792056e+01,  0.00000000e+00],\n",
       "       [-1.48749536e+01, -3.46648896e-07],\n",
       "       [-2.11439662e+01, -6.56585897e-10],\n",
       "       [-2.31458840e+01, -8.86881679e-11],\n",
       "       [ 0.00000000e+00, -4.46506601e+02],\n",
       "       [-7.78985765e-11, -2.32756092e+01],\n",
       "       [-3.20112613e+01, -1.06581410e-14],\n",
       "       [-3.96591068e+01,  0.00000000e+00],\n",
       "       [-2.93666458e-04, -8.13321276e+00],\n",
       "       [ 0.00000000e+00, -5.00261396e+01],\n",
       "       [-2.78326242e+01, -8.17124146e-13],\n",
       "       [-3.16546474e+01, -1.77635684e-14],\n",
       "       [-2.88680721e+01, -2.91322522e-13],\n",
       "       [ 0.00000000e+00, -1.88873299e+02],\n",
       "       [-3.77919816e+01,  0.00000000e+00],\n",
       "       [-2.56522957e+01, -7.23332505e-12],\n",
       "       [ 0.00000000e+00, -5.18232993e+01],\n",
       "       [-7.91483465e+00, -3.65351017e-04],\n",
       "       [-3.58579757e+01,  0.00000000e+00],\n",
       "       [-3.99823644e+01,  0.00000000e+00],\n",
       "       [ 0.00000000e+00, -7.40838104e+02],\n",
       "       [ 0.00000000e+00, -8.12503490e+01],\n",
       "       [-3.51346963e+01,  0.00000000e+00],\n",
       "       [ 0.00000000e+00, -2.32631824e+02],\n",
       "       [-2.70172679e+01, -1.84741111e-12],\n",
       "       [-3.33924506e+01, -3.55271368e-15],\n",
       "       [ 0.00000000e+00, -2.76209677e+02],\n",
       "       [ 0.00000000e+00, -4.49373647e+01],\n",
       "       [ 0.00000000e+00, -2.42586944e+02],\n",
       "       [ 0.00000000e+00, -1.77348033e+02],\n",
       "       [-3.32334370e+01, -3.55271368e-15],\n",
       "       [-8.95015966e+00, -1.29724862e-04],\n",
       "       [-2.95715600e+01, -1.43884904e-13],\n",
       "       [ 0.00000000e+00, -1.03193977e+02],\n",
       "       [ 0.00000000e+00, -2.01886781e+02],\n",
       "       [-2.79825093e+01, -7.03437308e-13],\n",
       "       [-4.06918632e+01,  0.00000000e+00],\n",
       "       [-2.47913088e+01, -1.71098691e-11],\n",
       "       [-2.23414147e+01, -1.98264516e-10],\n",
       "       [-4.41545103e+01,  0.00000000e+00],\n",
       "       [-2.82042123e+01, -5.63105118e-13],\n",
       "       [ 0.00000000e+00, -3.25994097e+01],\n",
       "       [-4.03399599e+01,  0.00000000e+00],\n",
       "       [-2.70450630e+01, -1.79767312e-12],\n",
       "       [-8.04327286e-05, -9.42812961e+00],\n",
       "       [-4.14015922e+01,  0.00000000e+00],\n",
       "       [-4.34195980e+01,  0.00000000e+00],\n",
       "       [-3.26488628e+01, -7.10542736e-15],\n",
       "       [-3.31110575e+01, -3.55271368e-15]])"
      ]
     },
     "execution_count": 15,
     "metadata": {},
     "output_type": "execute_result"
    }
   ],
   "source": [
    "gnb.predict_log_proba(Xval)"
   ]
  },
  {
   "cell_type": "code",
   "execution_count": 16,
   "metadata": {},
   "outputs": [
    {
     "data": {
      "text/plain": [
       "True"
      ]
     },
     "execution_count": 16,
     "metadata": {},
     "output_type": "execute_result"
    }
   ],
   "source": [
    "# Compare your predicted classes with those of the sklearn implementation.\n",
    "# If they are not identical, this may be due to some differences in parameter setting. \n",
    "# They should be almost all the same, however.\n",
    "##TODO##\n",
    "np.all(val_preds == classes)"
   ]
  },
  {
   "cell_type": "markdown",
   "metadata": {},
   "source": [
    "## Part (c) Comparing k-nearest neighbours and Gaussian naive Bayes\n",
    "Now, using the sklearn implementations of k-nearest neighbours and naive Bayes, retrain the naive Bayes classifier using the original training set `Xtr`, `Ytr`.\n",
    "Also retrain the k-nearest neighbours classifier using `Xtr` and `Ytr`. Use the value of $k$ that you decided on using cross-validation.\n",
    "\n",
    "Compute the accuracy of the naive Bayes classifier over the training set and the held-out test set.\n",
    "\n",
    "Compare with the accuracy of the k-nearest neighbours classifier on each set.\n",
    "\n",
    "Is it clear which classifier is the best on this dataset? why or why not?"
   ]
  },
  {
   "cell_type": "code",
   "execution_count": 17,
   "metadata": {
    "scrolled": false
   },
   "outputs": [
    {
     "name": "stdout",
     "output_type": "stream",
     "text": [
      "\tTrain\t Test\n",
      "GNB\t0.9275\t0.9561\n",
      "kNN\t0.9451\t0.9298\n"
     ]
    }
   ],
   "source": [
    "# Instantiate the knn classifer with your chosen value of k\n",
    "##TODO##\n",
    "knn = KNeighborsClassifier(n_neighbors=8) #8 was the best performing value on the validation set\n",
    "\n",
    "# Fit the Gaussian naive Bayes classifier and the knn classifier on Xtr, Ytr\n",
    "##TODO##\n",
    "gnb.fit(Xtr, Ytr)\n",
    "knn.fit(Xtr, Ytr)\n",
    "\n",
    "# Make predictions for the training set and the test set\n",
    "##TODO##\n",
    "gnb_tr = gnb.predict(Xtr)\n",
    "gnb_test = gnb.predict(Xtest)\n",
    "\n",
    "knn_tr = knn.predict(Xtr)\n",
    "knn_test = knn.predict(Xtest)\n",
    "\n",
    "# Take a look at the accuracy scores\n",
    "##TODO##\n",
    "print(f'\\tTrain\\t Test')\n",
    "print(f'GNB\\t{accuracy_score(Ytr, gnb_tr):.4f}\\t{accuracy_score(Ytest, gnb_test):.4f}')\n",
    "print(f'kNN\\t{accuracy_score(Ytr, knn_tr):.4f}\\t{accuracy_score(Ytest, knn_test):.4f}')"
   ]
  },
  {
   "cell_type": "markdown",
   "metadata": {},
   "source": [
    "## Part (d) Using cross-validation for statistical validation\n",
    "Earlier we used cross-validation to select the model parameters we would be using. We can also use it another way: to provide statistical information about which model is best. We will set up cross-validation on the whole dataset, with 10 folds.\n",
    "\n",
    " - Compute the accuracy for each model on the test set on each fold.\n",
    " - Calculate the mean accuracy across folds. Which model performs best?\n",
    " - Make a box-plot of the spread of scores of each model. Is there a clear difference between model performance?\n",
    " - Perform a paired t-test on the accuracy scores. What can you conclude about the performance of the two models?\n"
   ]
  },
  {
   "cell_type": "code",
   "execution_count": 18,
   "metadata": {},
   "outputs": [],
   "source": [
    "# Set up a k-fold cross-validation with 10 folds\n",
    "##TODO##\n",
    "cv = KFold(n_splits=10, shuffle=True)"
   ]
  },
  {
   "cell_type": "code",
   "execution_count": 19,
   "metadata": {},
   "outputs": [],
   "source": [
    "# For each fold, fit each model on the training data \n",
    "# and compute accuracy on the test data.\n",
    "##TODO##\n",
    "scoresknn=[]\n",
    "scoresnb=[]\n",
    "\n",
    "for train_index, test_index in cv.split(X):\n",
    "    Xtr, Xtest = X[train_index], X[test_index]\n",
    "    Ytr, Ytest = Y[train_index], Y[test_index]\n",
    "    modelknn=knn.fit(Xtr, Ytr)\n",
    "    modelnb=gnb.fit(Xtr, Ytr)\n",
    "    Ypredknn=modelknn.predict(Xtest)\n",
    "    Yprednb=modelnb.predict(Xtest)\n",
    "    scoresknn.append(accuracy_score(Ytest,Ypredknn))\n",
    "    scoresnb.append(accuracy_score(Ytest,Yprednb))"
   ]
  },
  {
   "cell_type": "code",
   "execution_count": 20,
   "metadata": {},
   "outputs": [
    {
     "name": "stdout",
     "output_type": "stream",
     "text": [
      "knn: mean=0.9333333333333333, sd=0.03310168818265476\n",
      "nb: mean=0.9331140350877194,sd=0.03254566245538559\n"
     ]
    }
   ],
   "source": [
    "# Compute the mean and standard devation of the accuracies for each model.\n",
    "# Does one model perform better?\n",
    "##TODO##\n",
    "print(f'knn: mean={np.mean(scoresknn)}, sd={np.std(scoresknn)}')\n",
    "print(f'nb: mean={np.mean(scoresnb)},sd={np.std(scoresnb)}')"
   ]
  },
  {
   "cell_type": "code",
   "execution_count": 21,
   "metadata": {},
   "outputs": [
    {
     "data": {
      "image/png": "[encoded data removed]",
      "text/plain": [
       "<Figure size 432x288 with 1 Axes>"
      ]
     },
     "metadata": {
      "needs_background": "light"
     },
     "output_type": "display_data"
    }
   ],
   "source": [
    "# Make a boxplot of the accuracy scores. (Use plt.boxplot). \n",
    "# Is there a clear difference between the models?\n",
    "##TODO##\n",
    "box_plot_data=[scoresknn,scoresnb]\n",
    "plt.boxplot(box_plot_data,labels=['knn','nb'])\n",
    "plt.show()"
   ]
  },
  {
   "cell_type": "code",
   "execution_count": 22,
   "metadata": {},
   "outputs": [
    {
     "name": "stdout",
     "output_type": "stream",
     "text": [
      "Ttest_relResult(statistic=0.012117973181583462, pvalue=0.9905958624930582)\n"
     ]
    }
   ],
   "source": [
    "# Perform a paired t-test (you can use the function scipy.stats.ttest_rel). \n",
    "# What do you conclude about the performance of the two models?\n",
    "##TODO##\n",
    "from scipy.stats import ttest_rel\n",
    "print(ttest_rel(scoresknn,scoresnb))"
   ]
  },
  {
   "cell_type": "markdown",
   "metadata": {},
   "source": [
    "## Linear Regression\n",
    "In linear regression we make the assumption that the data $(x_i, y_i)$ can be modelled by a function of the form\n",
    "$$ \\hat{y_i} = f(\\vec{x}_i)= \\sum_j a_j x_{ij}  + b_i$$\n",
    "\n",
    "Recall that we can express this in a matrix format by:\n",
    "$$ \\hat{\\vec{y}} = f(X)= X\\Theta$$\n",
    "\n",
    "where \n",
    "$$ X=\\begin{pmatrix}\n",
    "x_{1,1} & x_{1,2} & \\ldots & x_{1,n} &1 \\\\\n",
    "\\vdots & \\vdots & \\ldots & \\vdots & \\vdots \\\\\n",
    "x_{N,1} & x_{N,2} & \\ldots & x_{N,n} & 1\n",
    "\\end{pmatrix}, \\quad \\vec{y}=\\begin{pmatrix} y_1 \\\\ \\vdots \\\\y_N \\end{pmatrix}, \\quad \\Theta=\\begin{pmatrix} a_1 \\\\ \\vdots \\\\a_n\\\\b \\end{pmatrix}$$\n",
    "\n",
    "We saw in lectures that the optimal value of $\\Theta$ is given by setting\n",
    "$$ \\Theta = (X^T X)^{-1} X^T \\vec{y}$$\n",
    "\n",
    "The quantity $(X^T X)^{-1} X^T$ is called the psuedoinverse of X, and can be computed using the function `np.linalg.pinv`.\n",
    "\n",
    "We will (a) perform a linear regression on the diabetes dataset. You can load this dataset using the function `load_diabetes` from `sklearn.datasets`. (b) compute the mean squared error and the R^2, and (c) compare your results with the built in function in sklearn (`sklearn.linear_model.LinearRegresion()`). You should get the same results."
   ]
  },
  {
   "cell_type": "code",
   "execution_count": 23,
   "metadata": {},
   "outputs": [],
   "source": [
    "# import statments here\n",
    "from sklearn import datasets, linear_model\n",
    "from sklearn.model_selection import train_test_split\n",
    "from sklearn.metrics import mean_squared_error, r2_score"
   ]
  },
  {
   "cell_type": "markdown",
   "metadata": {},
   "source": [
    "## Part (a) Implementing linear regression"
   ]
  },
  {
   "cell_type": "code",
   "execution_count": 24,
   "metadata": {},
   "outputs": [],
   "source": [
    "# Load the diabetes dataset \n",
    "##TODO##\n",
    "diabetes = datasets.load_diabetes()\n",
    "X = diabetes.data\n",
    "Y = diabetes.target\n",
    "\n",
    "# Split the dataset into training and test, using test_size=0.2\n",
    "##TODO##\n",
    "Xtr, Xtest, Ytr, Ytest = train_test_split(X, Y, test_size=0.2, random_state=0)\n",
    "Xtrain, Xval, Ytrain, Yval = train_test_split(Xtr, Ytr, test_size=0.2, random_state=0)"
   ]
  },
  {
   "cell_type": "code",
   "execution_count": 25,
   "metadata": {},
   "outputs": [],
   "source": [
    "# Add a column of ones to Xtrain and Xtest for the intercept term\n",
    "##TODO##\n",
    "Wtrain=np.hstack([Xtrain, np.ones((len(Xtrain),1))])\n",
    "Wval=np.hstack([Xval, np.ones((len(Xval),1))])\n",
    "Wtest=np.hstack([Xtest, np.ones((len(Xtest),1))])"
   ]
  },
  {
   "cell_type": "code",
   "execution_count": 26,
   "metadata": {},
   "outputs": [],
   "source": [
    "# Calculate the value of the coefficients theta. You can use the function np.linalg.pinv\n",
    "##TODO##\n",
    "theta = np.linalg.pinv(Wtrain).dot(Ytrain)"
   ]
  },
  {
   "cell_type": "markdown",
   "metadata": {},
   "source": [
    "## Part (b) Computing performance metrics"
   ]
  },
  {
   "cell_type": "code",
   "execution_count": 27,
   "metadata": {},
   "outputs": [],
   "source": [
    "# Make a prediction on the test set by applying the coefficients theta to the test set\n",
    "##TODO##\n",
    "my_pred = Wval.dot(theta)"
   ]
  },
  {
   "cell_type": "code",
   "execution_count": 28,
   "metadata": {},
   "outputs": [
    {
     "name": "stdout",
     "output_type": "stream",
     "text": [
      "mean squared error= 2837.4607\n",
      "R^2=0.1941\n"
     ]
    }
   ],
   "source": [
    "# Calculate the mean squared error and the R^2. \n",
    "# You can use the built in functions from sklearn\n",
    "##TODO##\n",
    "print(f'mean squared error= {mean_squared_error(my_pred, Yval):.4f}')\n",
    "print(f'R^2={r2_score(my_pred, Yval):.4f}')"
   ]
  },
  {
   "cell_type": "markdown",
   "metadata": {},
   "source": [
    "## Part (c) Checking results\n",
    "Compare your results with the built in function `sklearn.linear_model.LinearRegression()`"
   ]
  },
  {
   "cell_type": "code",
   "execution_count": 29,
   "metadata": {},
   "outputs": [],
   "source": [
    "# Instantiate the linear regression\n",
    "##TODO##\n",
    "regr = linear_model.LinearRegression()"
   ]
  },
  {
   "cell_type": "code",
   "execution_count": 30,
   "metadata": {},
   "outputs": [
    {
     "name": "stdout",
     "output_type": "stream",
     "text": [
      "mean squared error= 2837.4607\n",
      "R^2=0.1941\n"
     ]
    }
   ],
   "source": [
    "# Fit the model and make a prediction on the test set. Compare with your implementation\n",
    "##TODO##\n",
    "regr.fit(Xtrain, Ytrain)\n",
    "pred = regr.predict(Xval)\n",
    "print(f'mean squared error= {mean_squared_error(pred, Yval):.4f}')\n",
    "print(f'R^2={r2_score(pred, Yval):.4f}')"
   ]
  },
  {
   "cell_type": "markdown",
   "metadata": {},
   "source": [
    "Visualise the perfomance of the regression by plotting your predicted values vs target values on a scatter plot, and drawing a line y=x. If all predictions were perfect, the predicted values would lie on the line."
   ]
  },
  {
   "cell_type": "code",
   "execution_count": 31,
   "metadata": {},
   "outputs": [
    {
     "data": {
      "text/plain": [
       "[<matplotlib.lines.Line2D at 0x1f319e39a48>]"
      ]
     },
     "execution_count": 31,
     "metadata": {},
     "output_type": "execute_result"
    },
    {
     "data": {
      "image/png": "[encoded data removed]",
      "text/plain": [
       "<Figure size 432x288 with 1 Axes>"
      ]
     },
     "metadata": {
      "needs_background": "light"
     },
     "output_type": "display_data"
    }
   ],
   "source": [
    "# Plot predicted values vs target values on a scatter plot, and drawing a line y=x\n",
    "## TODO##\n",
    "plt.ylim(20, 350)\n",
    "plt.xlim(20, 350)\n",
    "plt.scatter(pred,Yval,color='black')\n",
    "x = np.linspace(20,350,100) \n",
    "y=x\n",
    "plt.plot(x, y,color='blue')"
   ]
  },
  {
   "cell_type": "markdown",
   "metadata": {},
   "source": [
    "# (Optional) Polynomial regression\n",
    "The term 'linear' in linear regression refers only to the coefficients $\\theta$. We can in fact compute polynomial terms in the data and perform linear regression over this extended dataset to get a better fit to the data.\n",
    "\n",
    "To compute polynomial terms in the data automatically, you can use the class `sklearn.preprocessing.PolynomialFeatures`. To find out how to use it, look at the guidance (you can type `help(PolynomialFeatures)` once you have imported it).\n",
    "\n",
    "The following small dataset (in the cell below) gives a relationship between temperature and yield for an experiment. Use cross-validation to select the degree of the polynomial that best fits this data.\n",
    "\n",
    "Plot the mean squared error against degree on the training set and on the validation set. Which degree of polynomial best fits this data?"
   ]
  },
  {
   "cell_type": "code",
   "execution_count": 32,
   "metadata": {},
   "outputs": [],
   "source": [
    "# Data\n",
    "X = np.array([50,50,50,70,70,70,80,80,80,90,90,90,100,100,100]).reshape(-1, 1)\n",
    "y = np.array([3.3,2.8,2.9,2.3,2.6,2.1,2.5,2.9,2.4,3,3.1,2.8,3.3,3.5,3]).reshape(-1, 1)"
   ]
  },
  {
   "cell_type": "code",
   "execution_count": 33,
   "metadata": {},
   "outputs": [],
   "source": [
    "from sklearn.preprocessing import PolynomialFeatures\n",
    "Xtr, Xtest, Ytr, Ytest = train_test_split(X, y, test_size=0.2, random_state=0)\n",
    "Xtrain, Xval, Ytrain, Yval = train_test_split(Xtr, Ytr, test_size=0.2, random_state=0)\n",
    "mse_tr = []\n",
    "mse_val = []\n",
    "max_deg = 10\n",
    "for i in range(max_deg):\n",
    "    poly=PolynomialFeatures(degree=i+1)\n",
    "    Xtrain_new = poly.fit_transform(Xtrain) \n",
    "    Xval_new = poly.fit_transform(Xval)\n",
    "    regr.fit(Xtrain_new, Ytrain)\n",
    "    pred_tr = regr.predict(Xtrain_new)\n",
    "    pred_v = regr.predict(Xval_new)\n",
    "    mse_tr.append(mean_squared_error(pred_tr, Ytrain))\n",
    "    mse_val.append(mean_squared_error(pred_v, Yval))"
   ]
  },
  {
   "cell_type": "code",
   "execution_count": 34,
   "metadata": {},
   "outputs": [
    {
     "data": {
      "text/plain": [
       "Text(0, 0.5, 'MSE')"
      ]
     },
     "execution_count": 34,
     "metadata": {},
     "output_type": "execute_result"
    },
    {
     "data": {
      "image/png": "[encoded data removed]",
      "text/plain": [
       "<Figure size 432x288 with 1 Axes>"
      ]
     },
     "metadata": {
      "needs_background": "light"
     },
     "output_type": "display_data"
    }
   ],
   "source": [
    "plt.plot(range(1, max_deg+1), mse_tr, label='Training')\n",
    "plt.plot(range(1, max_deg+1), mse_val, label='Validation')\n",
    "plt.legend()\n",
    "plt.xlabel('Degree')\n",
    "plt.ylabel('MSE')"
   ]
  },
  {
   "cell_type": "code",
   "execution_count": 35,
   "metadata": {},
   "outputs": [
    {
     "data": {
      "text/plain": [
       "0.059204210569073344"
      ]
     },
     "execution_count": 35,
     "metadata": {},
     "output_type": "execute_result"
    }
   ],
   "source": [
    "Xtest_new = poly.fit_transform(Xtest)\n",
    "pred_test = regr.predict(Xtest_new)\n",
    "mean_squared_error(pred_test, Ytest)"
   ]
  },
  {
   "cell_type": "markdown",
   "metadata": {},
   "source": [
    "# Single Layer Neural Network\n",
    "\n",
    "In this question we apply a single-layer neural network to a linearly separable toy data set."
   ]
  },
  {
   "cell_type": "code",
   "execution_count": 36,
   "metadata": {},
   "outputs": [],
   "source": [
    "import matplotlib.pyplot as plt\n",
    "import numpy as np\n",
    "from sklearn.datasets import make_moons, make_circles, make_classification\n",
    "from sklearn.neural_network import MLPClassifier \n",
    "from sklearn.linear_model import Perceptron"
   ]
  },
  {
   "cell_type": "code",
   "execution_count": 37,
   "metadata": {},
   "outputs": [
    {
     "data": {
      "image/png": "[encoded data removed]",
      "text/plain": [
       "<Figure size 432x288 with 1 Axes>"
      ]
     },
     "metadata": {
      "needs_background": "light"
     },
     "output_type": "display_data"
    }
   ],
   "source": [
    "X1, y1 = make_classification(n_features=2, n_redundant=0, \\\n",
    "            n_informative=1, random_state=1,n_clusters_per_class=1)\n",
    "fig1, ax1 = plt.subplots();\n",
    "ax1.scatter(X1[:,0],X1[:,1],c=y1, cmap='rainbow')\n",
    "plt.show()"
   ]
  },
  {
   "cell_type": "code",
   "execution_count": 38,
   "metadata": {},
   "outputs": [],
   "source": [
    "nn1=Perceptron(alpha=1, max_iter=1000) \n",
    "model=nn1.fit(X1,y1)\n"
   ]
  },
  {
   "cell_type": "markdown",
   "metadata": {},
   "source": [
    "(Optional) Plot the line that the perceptron is modelling. Look at the documentation to find out how you can get the values of the weights and the bias."
   ]
  },
  {
   "cell_type": "code",
   "execution_count": 39,
   "metadata": {},
   "outputs": [
    {
     "data": {
      "image/png": "[encoded data removed]",
      "text/plain": [
       "<Figure size 432x288 with 1 Axes>"
      ]
     },
     "execution_count": 39,
     "metadata": {},
     "output_type": "execute_result"
    }
   ],
   "source": [
    "#TODO\n",
    "xs= np.linspace(-3,3, 101)\n",
    "m = -nn1.coef_[0][0]/nn1.coef_[0][1]\n",
    "c = -nn1.intercept_/nn1.coef_[0][1]\n",
    "ys = m*xs+c\n",
    "ax1.plot(xs, ys)\n",
    "fig1"
   ]
  },
  {
   "cell_type": "markdown",
   "metadata": {},
   "source": [
    "\n",
    "We can visualise the performance of this network again using a scatter plot, and colour the points using predicted class. Is the network able to give the right classification for each point?"
   ]
  },
  {
   "cell_type": "code",
   "execution_count": 40,
   "metadata": {},
   "outputs": [
    {
     "name": "stdout",
     "output_type": "stream",
     "text": [
      "Accuracy is: 1.0\n"
     ]
    },
    {
     "data": {
      "image/png": "[encoded data removed]",
      "text/plain": [
       "<Figure size 432x288 with 1 Axes>"
      ]
     },
     "execution_count": 40,
     "metadata": {},
     "output_type": "execute_result"
    }
   ],
   "source": [
    "ypred1=model.predict(X1)\n",
    "# TODO: Make a scatter plot of the predictions.\n",
    "ax1.scatter(X1[:,0],X1[:,1],c=ypred1, cmap='rainbow')\n",
    "\n",
    "# How do the predictions compare with the ground truth? Compute the accuracy to compare\n",
    "from sklearn.metrics import accuracy_score\n",
    "print (f'Accuracy is: {accuracy_score(y1, ypred1)}')\n",
    "fig1"
   ]
  },
  {
   "cell_type": "markdown",
   "metadata": {},
   "source": [
    "# Multi-Layer NN on Toy Problems\n",
    "In this question we consider two toy problems in which the classes are not linearly separable. In the first example the two classes form moon shapes."
   ]
  },
  {
   "cell_type": "code",
   "execution_count": 41,
   "metadata": {},
   "outputs": [
    {
     "data": {
      "text/plain": [
       "<matplotlib.collections.PathCollection at 0x1f31a4041c8>"
      ]
     },
     "execution_count": 41,
     "metadata": {},
     "output_type": "execute_result"
    },
    {
     "data": {
      "image/png": "[encoded data removed]",
      "text/plain": [
       "<Figure size 432x288 with 1 Axes>"
      ]
     },
     "metadata": {
      "needs_background": "light"
     },
     "output_type": "display_data"
    }
   ],
   "source": [
    "X2, y2 = make_moons()\n",
    "fig2, ax2 = plt.subplots()\n",
    "ax2.scatter(X2[:,0],X2[:,1],c=y2, cmap='rainbow')"
   ]
  },
  {
   "cell_type": "markdown",
   "metadata": {},
   "source": [
    "Try fitting a single-layer neural network to the data. \n",
    "Comment on the performance and hypothesise what might be the source of the errors."
   ]
  },
  {
   "cell_type": "code",
   "execution_count": 42,
   "metadata": {},
   "outputs": [
    {
     "name": "stdout",
     "output_type": "stream",
     "text": [
      "Accuracy is: 0.78\n"
     ]
    },
    {
     "data": {
      "image/png": "[encoded data removed]",
      "text/plain": [
       "<Figure size 432x288 with 1 Axes>"
      ]
     },
     "execution_count": 42,
     "metadata": {},
     "output_type": "execute_result"
    }
   ],
   "source": [
    "#TODO\n",
    "nn2=Perceptron(alpha=1, max_iter=1000) \n",
    "model2=nn2.fit(X2,y2)\n",
    "ypred2=model2.predict(X2)\n",
    "\n",
    "# TODO: Make a scatter plot of the predictions.\n",
    "ax2.scatter(X2[:,0],X2[:,1],c=ypred2, cmap='rainbow')\n",
    "# How do the predictions compare with the ground truth?\n",
    "from sklearn.metrics import accuracy_score\n",
    "print (f'Accuracy is: {accuracy_score(y2, ypred2)}')\n",
    "fig2"
   ]
  },
  {
   "cell_type": "markdown",
   "metadata": {},
   "source": [
    "We can now try to fit a multi-layer NN to the same data"
   ]
  },
  {
   "cell_type": "code",
   "execution_count": 43,
   "metadata": {},
   "outputs": [
    {
     "data": {
      "image/png": "[encoded data removed]",
      "text/plain": [
       "<Figure size 432x288 with 1 Axes>"
      ]
     },
     "execution_count": 43,
     "metadata": {},
     "output_type": "execute_result"
    }
   ],
   "source": [
    "nn2=MLPClassifier(alpha=1,hidden_layer_sizes=(10,10,10,10), max_iter=1000)\n",
    "model2=nn2.fit(X2,y2)\n",
    "ypred2=model2.predict(X2)\n",
    "ax2.scatter(X2[:,0],X2[:,1],c=ypred2, cmap='rainbow')\n",
    "fig2"
   ]
  },
  {
   "cell_type": "markdown",
   "metadata": {},
   "source": [
    "This NN has 4 hidden layers each with 10 neurons. The parameter\n",
    "`hidden_layer_sizes=(x,y,z, ...)` identifies the number of neurons in each layer. Try experimenting with different configurations of hidden layers to see the effect on performance.\n",
    "\n",
    "Investigate the parameter `activation`. What are the different activation functions?"
   ]
  },
  {
   "cell_type": "markdown",
   "id": "23baaf64",
   "metadata": {},
   "source": [
    "The activation functions are:"
   ]
  },
  {
   "cell_type": "markdown",
   "id": "624932a6",
   "metadata": {},
   "source": [
    "We now introduce another toy classification problem based on classes in the form of two circles. Experiment with using different NN architectures to fit this data and plot the results."
   ]
  },
  {
   "cell_type": "code",
   "execution_count": 44,
   "id": "dca72170",
   "metadata": {
    "scrolled": true
   },
   "outputs": [
    {
     "data": {
      "image/png": "[encoded data removed]",
      "text/plain": [
       "<Figure size 432x288 with 1 Axes>"
      ]
     },
     "metadata": {
      "needs_background": "light"
     },
     "output_type": "display_data"
    }
   ],
   "source": [
    "X3, y3 = make_circles()\n",
    "fig3, ax3 = plt.subplots()\n",
    "ax3.scatter(X3[:,0],X3[:,1],c=y3, cmap='rainbow')\n",
    "plt.show()"
   ]
  },
  {
   "cell_type": "code",
   "execution_count": 45,
   "id": "b343aacc",
   "metadata": {},
   "outputs": [
    {
     "data": {
      "image/png": "[encoded data removed]",
      "text/plain": [
       "<Figure size 432x288 with 1 Axes>"
      ]
     },
     "execution_count": 45,
     "metadata": {},
     "output_type": "execute_result"
    }
   ],
   "source": [
    "#TODO\n",
    "nn3=MLPClassifier(alpha=1,hidden_layer_sizes=(10,100,100,10), max_iter=1000)\n",
    "model3=nn3.fit(X3,y3)\n",
    "ypred3=model3.predict(X3)\n",
    "ax3.scatter(X3[:,0],X3[:,1],c=ypred3, cmap='rainbow')\n",
    "fig3"
   ]
  }
 ],
 "metadata": {
  "kernelspec": {
   "display_name": "Python 3",
   "language": "python",
   "name": "python3"
  },
  "language_info": {
   "codemirror_mode": {
    "name": "ipython",
    "version": 3
   },
   "file_extension": ".py",
   "mimetype": "text/x-python",
   "name": "python",
   "nbconvert_exporter": "python",
   "pygments_lexer": "ipython3",
   "version": "3.7.10"
  },
  "vscode": {
   "interpreter": {
    "hash": "bc4778dd1211f1bf59455cd46029fa692529fbc0d32c0ba0949d8ddd432c76af"
   }
  }
 },
 "nbformat": 4,
 "nbformat_minor": 2
}
