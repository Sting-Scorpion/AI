{
 "cells": [
  {
   "cell_type": "markdown",
   "id": "d5a71ecf",
   "metadata": {},
   "source": [
    "# Algorithms 1 -- Liner Regression"
   ]
  },
  {
   "cell_type": "markdown",
   "id": "3baf5a2e",
   "metadata": {},
   "source": [
    "## load dataset and split to train_set and test_set"
   ]
  },
  {
   "cell_type": "code",
   "execution_count": 1,
   "id": "8806b5c1",
   "metadata": {},
   "outputs": [],
   "source": [
    "import pandas as pd\n",
    "from sklearn.model_selection import train_test_split\n",
    "\n",
    "df = pd.read_csv('coursework_other.csv')\n",
    "X = df.iloc[:, 0:-1]\n",
    "Y = df.iloc[:, -1]\n",
    "\n",
    "Xtrain, Xtest, Ytrain, Ytest = train_test_split(X, Y, test_size=0.2, random_state=1)"
   ]
  },
  {
   "cell_type": "markdown",
   "id": "5c199d6a",
   "metadata": {},
   "source": [
    "### see the shape"
   ]
  },
  {
   "cell_type": "code",
   "execution_count": 2,
   "id": "50948540",
   "metadata": {},
   "outputs": [
    {
     "name": "stdout",
     "output_type": "stream",
     "text": [
      "(7654, 4) (1914, 4) (7654,) (1914,)\n"
     ]
    }
   ],
   "source": [
    "print(Xtrain.shape, Xtest.shape, Ytrain.shape, Ytest.shape)"
   ]
  },
  {
   "cell_type": "markdown",
   "id": "31c76a4d",
   "metadata": {},
   "source": [
    "## Instantiate and fit the estimator"
   ]
  },
  {
   "cell_type": "code",
   "execution_count": 3,
   "id": "d6357346",
   "metadata": {},
   "outputs": [
    {
     "data": {
      "text/plain": [
       "LinearRegression()"
      ]
     },
     "execution_count": 3,
     "metadata": {},
     "output_type": "execute_result"
    }
   ],
   "source": [
    "from sklearn.linear_model import LinearRegression\n",
    "reg = LinearRegression()\n",
    "\n",
    "reg.fit(Xtrain, Ytrain)"
   ]
  },
  {
   "cell_type": "code",
   "execution_count": 4,
   "id": "abc79750",
   "metadata": {},
   "outputs": [],
   "source": [
    "ypred = reg.predict(Xtest)\n",
    "# ypred = reg.predict(Xtrain)"
   ]
  },
  {
   "cell_type": "markdown",
   "id": "cb5d9d9d",
   "metadata": {},
   "source": [
    "## Calculating mean squared error\n",
    "\n",
    "The equation for the mean squared error is \n",
    "$$ MSE = \\frac{\\sum_{i = 1}^n (y_i - f(x_i))^2}{n} $$"
   ]
  },
  {
   "cell_type": "code",
   "execution_count": 5,
   "id": "36324390",
   "metadata": {},
   "outputs": [
    {
     "data": {
      "text/plain": [
       "20.329991554850068"
      ]
     },
     "execution_count": 5,
     "metadata": {},
     "output_type": "execute_result"
    }
   ],
   "source": [
    "from sklearn.metrics import mean_squared_error\n",
    "\n",
    "mean_squared_error(Ytest, ypred)\n",
    "# mean_squared_error(Ytrain, ypred)"
   ]
  },
  {
   "cell_type": "markdown",
   "id": "c60f29a1",
   "metadata": {},
   "source": [
    "## Calculating R^2\n",
    "\n",
    "$R^2$ is defined as\n",
    "\n",
    "$$R^2(y, \\hat{y})) = 1 - \\frac{\\sum_{i=1}^{n} (y_i - \\hat{y}_i)^2}{\\sum_{i=1}^{n} (y_i - \\bar{y})^2}$$\n",
    "\n",
    "This represents the proportion of the variance of y that is explained by the independent variables in the model. It is essentially a comparison of the fitted model with the mean of the target values ($\\bar{y}$)."
   ]
  },
  {
   "cell_type": "code",
   "execution_count": 6,
   "id": "de56dfdd",
   "metadata": {},
   "outputs": [
    {
     "data": {
      "text/plain": [
       "0.9321860060402446"
      ]
     },
     "execution_count": 6,
     "metadata": {},
     "output_type": "execute_result"
    }
   ],
   "source": [
    "from sklearn.metrics import r2_score\n",
    "r2_score(Ytest, ypred)\n",
    "# r2_score(Ytrain, ypred)"
   ]
  },
  {
   "cell_type": "markdown",
   "id": "3cdb6137",
   "metadata": {},
   "source": [
    "# Algorithms 2 -- KNN Regression"
   ]
  },
  {
   "cell_type": "code",
   "execution_count": 7,
   "id": "6ec914bd",
   "metadata": {},
   "outputs": [],
   "source": [
    "from sklearn.neighbors import KNeighborsRegressor\n",
    "\n",
    "X_train, Xval, Y_train, Yval = train_test_split(Xtrain, Ytrain, test_size=0.2, random_state=1)\n",
    "\n",
    "mse_tr = []\n",
    "mse_val = []\n",
    "k_neighbors = range(1, 19, 2)\n",
    "\n",
    "for k in k_neighbors:\n",
    "    clf = KNeighborsRegressor(n_neighbors=k)\n",
    "    clf.fit(X_train, Y_train)\n",
    "    pred_tr = clf.predict(X_train)\n",
    "    pred_v = clf.predict(Xval)\n",
    "    mse_tr.append(mean_squared_error(pred_tr, Y_train))\n",
    "    mse_val.append(mean_squared_error(pred_v, Yval))"
   ]
  },
  {
   "cell_type": "markdown",
   "id": "85da6f09",
   "metadata": {},
   "source": [
    "## Plot the mean squared error against degree on the training set and on the validation set."
   ]
  },
  {
   "cell_type": "code",
   "execution_count": 8,
   "id": "2fda7060",
   "metadata": {},
   "outputs": [
    {
     "data": {
      "text/plain": [
       "Text(0, 0.5, 'MSE')"
      ]
     },
     "execution_count": 8,
     "metadata": {},
     "output_type": "execute_result"
    },
    {
     "data": {
      "image/png": "[encoded data removed]",
      "text/plain": [
       "<Figure size 432x288 with 1 Axes>"
      ]
     },
     "metadata": {
      "needs_background": "light"
     },
     "output_type": "display_data"
    }
   ],
   "source": [
    "import matplotlib.pyplot as plt\n",
    "\n",
    "plt.plot(k_neighbors, mse_tr, label='Training')\n",
    "plt.plot(k_neighbors, mse_val, label='Validation')\n",
    "plt.legend()\n",
    "plt.xlabel('Degree')\n",
    "plt.ylabel('MSE')"
   ]
  },
  {
   "cell_type": "code",
   "execution_count": 9,
   "id": "bab8d6a1",
   "metadata": {},
   "outputs": [
    {
     "name": "stdout",
     "output_type": "stream",
     "text": [
      "15.10024803970743 0.9496306662699407\n"
     ]
    }
   ],
   "source": [
    "clf = KNeighborsRegressor(n_neighbors=5)\n",
    "clf.fit(Xtrain, Ytrain)\n",
    "ypred= clf.predict(Xtest)\n",
    "print(mean_squared_error(Ytest, ypred), r2_score(Ytest, ypred))"
   ]
  },
  {
   "cell_type": "markdown",
   "id": "86e264a9",
   "metadata": {},
   "source": [
    "# Algorithms 3 -- Polynomial Regression"
   ]
  },
  {
   "cell_type": "code",
   "execution_count": 10,
   "id": "8f50d0bb",
   "metadata": {},
   "outputs": [],
   "source": [
    "from sklearn.preprocessing import PolynomialFeatures\n",
    "\n",
    "X_train, Xval, Y_train, Yval = train_test_split(Xtrain, Ytrain, test_size=0.2, random_state=1)\n",
    "\n",
    "mse_tr = []\n",
    "mse_val = []\n",
    "max_deg = 10\n",
    "for i in range(max_deg):\n",
    "    poly = PolynomialFeatures(degree=i+1)\n",
    "    Xtrain_new = poly.fit_transform(X_train) \n",
    "    Xval_new = poly.fit_transform(Xval)\n",
    "    reg.fit(Xtrain_new, Y_train)\n",
    "    pred_tr = reg.predict(Xtrain_new)\n",
    "    pred_v = reg.predict(Xval_new)\n",
    "    mse_tr.append(mean_squared_error(pred_tr, Y_train))\n",
    "    mse_val.append(mean_squared_error(pred_v, Yval))"
   ]
  },
  {
   "cell_type": "markdown",
   "id": "bb064854",
   "metadata": {},
   "source": [
    "## Plot the mean squared error against degree on the training set and on the validation set. "
   ]
  },
  {
   "cell_type": "code",
   "execution_count": 11,
   "id": "d45429da",
   "metadata": {},
   "outputs": [
    {
     "data": {
      "text/plain": [
       "Text(0, 0.5, 'MSE')"
      ]
     },
     "execution_count": 11,
     "metadata": {},
     "output_type": "execute_result"
    },
    {
     "data": {
      "image/png": "[encoded data removed]",
      "text/plain": [
       "<Figure size 432x288 with 1 Axes>"
      ]
     },
     "metadata": {
      "needs_background": "light"
     },
     "output_type": "display_data"
    }
   ],
   "source": [
    "plt.plot(range(1, max_deg+1), mse_tr, label='Training')\n",
    "plt.plot(range(1, max_deg+1), mse_val, label='Validation')\n",
    "plt.legend()\n",
    "plt.xlabel('Degree')\n",
    "plt.ylabel('MSE')"
   ]
  },
  {
   "cell_type": "code",
   "execution_count": 12,
   "id": "8fcf01df",
   "metadata": {},
   "outputs": [
    {
     "name": "stdout",
     "output_type": "stream",
     "text": [
      "15.830823424122482 0.947193713230772\n"
     ]
    }
   ],
   "source": [
    "poly = PolynomialFeatures(degree=7)\n",
    "\n",
    "Xtrain_new = poly.fit_transform(Xtrain) \n",
    "Xtest_new = poly.fit_transform(Xtest)\n",
    "reg.fit(Xtrain_new, Ytrain)\n",
    "pred_test = reg.predict(Xtest_new)\n",
    "print(mean_squared_error(Ytest, pred_test), r2_score(Ytest, pred_test))"
   ]
  },
  {
   "cell_type": "markdown",
   "id": "55276bbd",
   "metadata": {},
   "source": [
    "#  Generate a baseline"
   ]
  },
  {
   "cell_type": "code",
   "execution_count": 13,
   "id": "199c87cc",
   "metadata": {},
   "outputs": [
    {
     "data": {
      "text/plain": [
       "-1.3508382452620538e-06"
      ]
     },
     "execution_count": 13,
     "metadata": {},
     "output_type": "execute_result"
    }
   ],
   "source": [
    "from sklearn.dummy import DummyRegressor\n",
    "\n",
    "dummy_regr = DummyRegressor(strategy=\"mean\")\n",
    "dummy_regr.fit(Xtrain, Ytrain)\n",
    "dummy_regr.score(Xtest, Ytest)"
   ]
  },
  {
   "cell_type": "code",
   "execution_count": 14,
   "id": "5ef02cf1",
   "metadata": {},
   "outputs": [
    {
     "data": {
      "text/plain": [
       "-0.027881147510675053"
      ]
     },
     "execution_count": 14,
     "metadata": {},
     "output_type": "execute_result"
    }
   ],
   "source": [
    "dummy_regr = DummyRegressor(strategy=\"median\")\n",
    "dummy_regr.fit(Xtrain, Ytrain)\n",
    "dummy_regr.score(Xtest, Ytest)"
   ]
  },
  {
   "cell_type": "code",
   "execution_count": null,
   "id": "a94bff2d",
   "metadata": {},
   "outputs": [],
   "source": []
  }
 ],
 "metadata": {
  "kernelspec": {
   "display_name": "Python 3",
   "language": "python",
   "name": "python3"
  },
  "language_info": {
   "codemirror_mode": {
    "name": "ipython",
    "version": 3
   },
   "file_extension": ".py",
   "mimetype": "text/x-python",
   "name": "python",
   "nbconvert_exporter": "python",
   "pygments_lexer": "ipython3",
   "version": "3.7.10"
  }
 },
 "nbformat": 4,
 "nbformat_minor": 5
}
