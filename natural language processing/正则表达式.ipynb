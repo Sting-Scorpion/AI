{
 "cells": [
  {
   "cell_type": "markdown",
   "id": "97fd99f3",
   "metadata": {},
   "source": [
    "# 正则表达式\n",
    "\n",
    "## 正则表达式语法\n",
    "\n",
    "![regular expression](./graph/regular_expression_1.png)"
   ]
  },
  {
   "cell_type": "markdown",
   "id": "5b4fbfda",
   "metadata": {},
   "source": [
    "## Python正则表达式\n",
    "\n",
    "- 指定好匹配的模式，pattern\n",
    "- 选择相应的方法，match、search等\n",
    "- 得到匹配结果，group\n",
    "\n",
    "\n",
    "- re.match 从开始位置开始匹配，如果开头没有则无\n",
    "- re.search 搜索整个字符串\n",
    "- re.findall 搜索整个字符串，返回一个list"
   ]
  },
  {
   "cell_type": "code",
   "execution_count": 1,
   "id": "f5c91c3b",
   "metadata": {},
   "outputs": [],
   "source": [
    "input_str = 're, 123??cd45'"
   ]
  },
  {
   "cell_type": "code",
   "execution_count": 2,
   "id": "1c11850c",
   "metadata": {},
   "outputs": [],
   "source": [
    "import re"
   ]
  },
  {
   "cell_type": "code",
   "execution_count": 3,
   "id": "0e8bd733",
   "metadata": {},
   "outputs": [],
   "source": [
    "pattern = re.compile(r'.')"
   ]
  },
  {
   "cell_type": "code",
   "execution_count": 4,
   "id": "df35285a",
   "metadata": {
    "scrolled": true
   },
   "outputs": [
    {
     "data": {
      "text/plain": [
       "['r', 'e', ',', ' ', '1', '2', '3', '?', '?', 'c', 'd', '4', '5']"
      ]
     },
     "execution_count": 4,
     "metadata": {},
     "output_type": "execute_result"
    }
   ],
   "source": [
    "re.findall(pattern, input_str)"
   ]
  },
  {
   "cell_type": "markdown",
   "id": "1eebb639",
   "metadata": {},
   "source": [
    "#### 字符集合\n",
    "- [abc] 指定字符\n",
    "- [a-zA-Z] 所有大小写英文字母\n",
    "- [^a-zA-Z] 除所有大小写英文字母外"
   ]
  },
  {
   "cell_type": "code",
   "execution_count": 5,
   "id": "89a9f7bd",
   "metadata": {},
   "outputs": [
    {
     "data": {
      "text/plain": [
       "['c', 'd']"
      ]
     },
     "execution_count": 5,
     "metadata": {},
     "output_type": "execute_result"
    }
   ],
   "source": [
    "pattern = re.compile(r'[cd]')\n",
    "re.findall(pattern, input_str)"
   ]
  },
  {
   "cell_type": "code",
   "execution_count": 6,
   "id": "a0c12211",
   "metadata": {},
   "outputs": [
    {
     "data": {
      "text/plain": [
       "[',', ' ', '1', '2', '3', '?', '?', '4', '5']"
      ]
     },
     "execution_count": 6,
     "metadata": {},
     "output_type": "execute_result"
    }
   ],
   "source": [
    "pattern = re.compile(r'[^a-zA-Z]')\n",
    "re.findall(pattern, input_str)"
   ]
  },
  {
   "cell_type": "markdown",
   "id": "a1ead471",
   "metadata": {},
   "source": [
    "#### 或方法\n",
    "\n",
    "将两个规则并列起来，以'|'连接，只要满足其中之一即可匹配"
   ]
  },
  {
   "cell_type": "code",
   "execution_count": 7,
   "id": "3d7b029a",
   "metadata": {},
   "outputs": [
    {
     "data": {
      "text/plain": [
       "['1', '2', '3', 'c', 'd', '4', '5']"
      ]
     },
     "execution_count": 7,
     "metadata": {},
     "output_type": "execute_result"
    }
   ],
   "source": [
    "re.findall(r'[cd]|[0-9]', input_str)"
   ]
  },
  {
   "cell_type": "markdown",
   "id": "7e6af7cd",
   "metadata": {},
   "source": [
    "#### \\d与\\D\n",
    "\n",
    "\\d 匹配所有数字"
   ]
  },
  {
   "cell_type": "code",
   "execution_count": 8,
   "id": "0bee2795",
   "metadata": {},
   "outputs": [
    {
     "data": {
      "text/plain": [
       "['1', '2', '3', '4', '5']"
      ]
     },
     "execution_count": 8,
     "metadata": {},
     "output_type": "execute_result"
    }
   ],
   "source": [
    "re.findall(r'[\\d]', input_str)"
   ]
  },
  {
   "cell_type": "markdown",
   "id": "7b4bd739",
   "metadata": {},
   "source": [
    "\\D 匹配所有非数字"
   ]
  },
  {
   "cell_type": "code",
   "execution_count": 9,
   "id": "64ed777c",
   "metadata": {
    "scrolled": true
   },
   "outputs": [
    {
     "data": {
      "text/plain": [
       "['r', 'e', ',', ' ', '?', '?', 'c', 'd']"
      ]
     },
     "execution_count": 9,
     "metadata": {},
     "output_type": "execute_result"
    }
   ],
   "source": [
    "re.findall(r'[\\D]', input_str)"
   ]
  },
  {
   "cell_type": "markdown",
   "id": "ea8c291c",
   "metadata": {},
   "source": [
    "#### \\w与\\W\n",
    "\n",
    "\\w 匹配所有字母和数字"
   ]
  },
  {
   "cell_type": "code",
   "execution_count": 10,
   "id": "28d34944",
   "metadata": {
    "scrolled": true
   },
   "outputs": [
    {
     "data": {
      "text/plain": [
       "['r', 'e', '1', '2', '3', 'c', 'd', '4', '5']"
      ]
     },
     "execution_count": 10,
     "metadata": {},
     "output_type": "execute_result"
    }
   ],
   "source": [
    "re.findall(r'[\\w]', input_str)"
   ]
  },
  {
   "cell_type": "markdown",
   "id": "059aa265",
   "metadata": {},
   "source": [
    "\\W 匹配所有非字母和数字"
   ]
  },
  {
   "cell_type": "code",
   "execution_count": 11,
   "id": "b57fd4ee",
   "metadata": {},
   "outputs": [
    {
     "data": {
      "text/plain": [
       "[',', ' ', '?', '?']"
      ]
     },
     "execution_count": 11,
     "metadata": {},
     "output_type": "execute_result"
    }
   ],
   "source": [
    "re.findall(r'\\W', input_str)"
   ]
  },
  {
   "cell_type": "markdown",
   "id": "9953ffaf",
   "metadata": {},
   "source": [
    "#### \\s与\\S\n",
    "\n",
    "\\s 匹配间隔符，如空格符，换行符，制表符\n",
    "等同于[\\r\\t\\n\\f]"
   ]
  },
  {
   "cell_type": "code",
   "execution_count": 12,
   "id": "4038d62a",
   "metadata": {},
   "outputs": [
    {
     "data": {
      "text/plain": [
       "[' ']"
      ]
     },
     "execution_count": 12,
     "metadata": {},
     "output_type": "execute_result"
    }
   ],
   "source": [
    "re.findall(r'\\s', input_str)"
   ]
  },
  {
   "cell_type": "markdown",
   "id": "e22f096d",
   "metadata": {},
   "source": [
    "\\S "
   ]
  },
  {
   "cell_type": "code",
   "execution_count": 13,
   "id": "da2e5882",
   "metadata": {
    "scrolled": true
   },
   "outputs": [
    {
     "data": {
      "text/plain": [
       "['r', 'e', ',', '1', '2', '3', '?', '?', 'c', 'd', '4', '5']"
      ]
     },
     "execution_count": 13,
     "metadata": {},
     "output_type": "execute_result"
    }
   ],
   "source": [
    "re.findall(r'\\S', input_str)"
   ]
  },
  {
   "cell_type": "markdown",
   "id": "00573e4e",
   "metadata": {},
   "source": [
    "### 重复\n",
    "\n",
    "可以匹配不定长的字符串"
   ]
  },
  {
   "cell_type": "markdown",
   "id": "821429b6",
   "metadata": {},
   "source": [
    "#### *\n",
    "\n",
    "0次或多次匹配"
   ]
  },
  {
   "cell_type": "code",
   "execution_count": 14,
   "id": "86a0e767",
   "metadata": {
    "scrolled": true
   },
   "outputs": [
    {
     "data": {
      "text/plain": [
       "['', '', '', '', '123', '', '', '', '', '45', '']"
      ]
     },
     "execution_count": 14,
     "metadata": {},
     "output_type": "execute_result"
    }
   ],
   "source": [
    "re.findall(r'\\d*', input_str)"
   ]
  },
  {
   "cell_type": "markdown",
   "id": "7d61348d",
   "metadata": {},
   "source": [
    "#### +\n",
    "\n",
    "一次或多次匹配"
   ]
  },
  {
   "cell_type": "code",
   "execution_count": 15,
   "id": "7a96dec2",
   "metadata": {},
   "outputs": [
    {
     "data": {
      "text/plain": [
       "['123', '45']"
      ]
     },
     "execution_count": 15,
     "metadata": {},
     "output_type": "execute_result"
    }
   ],
   "source": [
    "re.findall(r'\\d+', input_str)"
   ]
  },
  {
   "cell_type": "markdown",
   "id": "b782ae3c",
   "metadata": {},
   "source": [
    "#### ？\n",
    "\n",
    "0次或1次匹配"
   ]
  },
  {
   "cell_type": "code",
   "execution_count": 16,
   "id": "4544ddb1",
   "metadata": {},
   "outputs": [
    {
     "data": {
      "text/plain": [
       "['', '', '', '', '', '', '', '?', '?', '', '', '', '', '']"
      ]
     },
     "execution_count": 16,
     "metadata": {},
     "output_type": "execute_result"
    }
   ],
   "source": [
    "re.findall(r'\\??', input_str)"
   ]
  },
  {
   "cell_type": "markdown",
   "id": "91b6d67e",
   "metadata": {},
   "source": [
    "### 精确匹配和最小匹配\n",
    "\n",
    "{m} 精确匹配m次\n",
    "\n",
    "{m,n} 匹配最少m次，最多n次"
   ]
  },
  {
   "cell_type": "code",
   "execution_count": 17,
   "id": "ea145878",
   "metadata": {},
   "outputs": [
    {
     "data": {
      "text/plain": [
       "['12', '45']"
      ]
     },
     "execution_count": 17,
     "metadata": {},
     "output_type": "execute_result"
    }
   ],
   "source": [
    "re.findall(r'\\d{2}', input_str)"
   ]
  },
  {
   "cell_type": "code",
   "execution_count": 18,
   "id": "376f24ab",
   "metadata": {},
   "outputs": [
    {
     "data": {
      "text/plain": [
       "['123', '45']"
      ]
     },
     "execution_count": 18,
     "metadata": {},
     "output_type": "execute_result"
    }
   ],
   "source": [
    "re.findall(r'\\d{2,3}', input_str)"
   ]
  },
  {
   "cell_type": "markdown",
   "id": "cef85bc2",
   "metadata": {},
   "source": [
    "### match 与 search\n",
    "\n",
    "返回的不是列表，是MatchObject，包含更多信息\n",
    "\n",
    "匹配不成功则返回NoneType，因此进行下一步操作之前需要检验是否匹配成功"
   ]
  },
  {
   "cell_type": "code",
   "execution_count": 19,
   "id": "a69ebf8b",
   "metadata": {},
   "outputs": [
    {
     "data": {
      "text/plain": [
       "'r'"
      ]
     },
     "execution_count": 19,
     "metadata": {},
     "output_type": "execute_result"
    }
   ],
   "source": [
    "match = re.match(r'\\w', input_str)\n",
    "match.group()"
   ]
  },
  {
   "cell_type": "code",
   "execution_count": null,
   "id": "ae7e7775",
   "metadata": {},
   "outputs": [],
   "source": []
  }
 ],
 "metadata": {
  "kernelspec": {
   "display_name": "Python 3",
   "language": "python",
   "name": "python3"
  },
  "language_info": {
   "codemirror_mode": {
    "name": "ipython",
    "version": 3
   },
   "file_extension": ".py",
   "mimetype": "text/x-python",
   "name": "python",
   "nbconvert_exporter": "python",
   "pygments_lexer": "ipython3",
   "version": "3.7.10"
  }
 },
 "nbformat": 4,
 "nbformat_minor": 5
}
